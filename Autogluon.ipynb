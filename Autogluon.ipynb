{
 "cells": [
  {
   "cell_type": "code",
   "execution_count": 1,
   "metadata": {},
   "outputs": [
    {
     "data": {
      "text/plain": [
       "False"
      ]
     },
     "execution_count": 1,
     "metadata": {},
     "output_type": "execute_result"
    }
   ],
   "source": [
    "import numpy as np\n",
    "import pandas as pd\n",
    "import torch\n",
    "from torch import nn\n",
    "from torch.utils.data import DataLoader\n",
    "from torchvision import datasets\n",
    "from torchvision.transforms import ToTensor \n",
    "import sqlite3\n",
    "import math\n",
    "torch.cuda.is_available()"
   ]
  },
  {
   "cell_type": "code",
   "execution_count": 17,
   "metadata": {},
   "outputs": [
    {
     "name": "stdout",
     "output_type": "stream",
     "text": [
      "[('df_2023_h1_feature',), ('df_2023_h1_target',)]\n"
     ]
    }
   ],
   "source": [
    "# Read in the data from the database\n",
    "conn = sqlite3.connect('data/tables.db')\n",
    "# show database content\n",
    "cursor = conn.cursor()\n",
    "cursor.execute(\"SELECT name FROM sqlite_master WHERE type='table';\")\n",
    "print(cursor.fetchall())\n",
    "# Extract two tables from it and store them in two pd df\n",
    "ds = pd.read_sql_query(\"SELECT * from df_2023_h1_feature\", conn)\n",
    "target = pd.read_sql_query(\"SELECT * from df_2023_h1_target\", conn)"
   ]
  },
  {
   "cell_type": "code",
   "execution_count": 47,
   "metadata": {},
   "outputs": [
    {
     "name": "stdout",
     "output_type": "stream",
     "text": [
      "(10000, 22) (10000, 1) (1000, 22) (1000, 1) (1000, 22) (1000, 1)\n"
     ]
    }
   ],
   "source": [
    "# custom train test val split\n",
    "\n",
    "X_train = ds[0:10000]\n",
    "y_train = target[0:10000]\n",
    "X_val = ds[10001:11001]\n",
    "y_val = target[10001:11001]\n",
    "X_test = ds[11002: 12002]\n",
    "y_test = target[11002: 12002]\n",
    "print(X_train.shape, y_train.shape, X_val.shape, y_val.shape, X_test.shape, y_test.shape)"
   ]
  },
  {
   "cell_type": "code",
   "execution_count": 48,
   "metadata": {},
   "outputs": [],
   "source": [
    "train_data = X_train.join(y_train)\n",
    "val_data = X_val.join(y_val)"
   ]
  },
  {
   "cell_type": "code",
   "execution_count": 55,
   "metadata": {},
   "outputs": [
    {
     "name": "stderr",
     "output_type": "stream",
     "text": [
      "No path specified. Models will be saved in: \"AutogluonModels/ag-20240305_002020\"\n",
      "Presets specified: ['medium_quality']\n",
      "Beginning AutoGluon training ...\n",
      "AutoGluon will save models to \"AutogluonModels/ag-20240305_002020\"\n",
      "=================== System Info ===================\n",
      "AutoGluon Version:  1.0.0\n",
      "Python Version:     3.11.6\n",
      "Operating System:   Darwin\n",
      "Platform Machine:   arm64\n",
      "Platform Version:   Darwin Kernel Version 23.3.0: Wed Dec 20 21:33:31 PST 2023; root:xnu-10002.81.5~7/RELEASE_ARM64_T8112\n",
      "CPU Count:          8\n",
      "Memory Avail:       1.38 GB / 8.00 GB (17.2%)\n",
      "Disk Space Avail:   207.70 GB / 460.43 GB (45.1%)\n",
      "===================================================\n",
      "Train Data Rows:    10000\n",
      "Train Data Columns: 22\n",
      "Tuning Data Rows:    1000\n",
      "Tuning Data Columns: 22\n",
      "Label Column:       discounted_price\n",
      "AutoGluon infers your prediction problem is: 'regression' (because dtype of label-column == float and many unique label-values observed).\n",
      "\tLabel info (max, min, mean, stddev): (323.9548593148663, -220.80113456717004, 1.69532, 73.60656)\n",
      "\tIf 'regression' is not the correct problem_type, please manually specify the problem_type parameter during predictor init (You may specify problem_type as one of: ['binary', 'multiclass', 'regression'])\n",
      "Problem Type:       regression\n",
      "Preprocessing data ...\n",
      "Using Feature Generators to preprocess the data ...\n",
      "Fitting AutoMLPipelineFeatureGenerator...\n",
      "\tAvailable Memory:                    1399.28 MB\n",
      "\tTrain Data (Original)  Memory Usage: 1.85 MB (0.1% of available memory)\n",
      "\tInferring data type of each feature based on column values. Set feature_metadata_in to manually specify special dtypes of the features.\n",
      "\tStage 1 Generators:\n",
      "\t\tFitting AsTypeFeatureGenerator...\n",
      "\tStage 2 Generators:\n",
      "\t\tFitting FillNaFeatureGenerator...\n",
      "\tStage 3 Generators:\n",
      "\t\tFitting IdentityFeatureGenerator...\n",
      "\tStage 4 Generators:\n",
      "\t\tFitting DropUniqueFeatureGenerator...\n",
      "\tStage 5 Generators:\n",
      "\t\tFitting DropDuplicatesFeatureGenerator...\n",
      "\tTypes of features in original data (raw dtype, special dtypes):\n",
      "\t\t('float', []) : 22 | ['[QUOTE_UNIXTIME]', '[EXPIRE_UNIX]', '[STRIKE]', '[UNDERLYING_LAST]', '[C_DELTA]', ...]\n",
      "\tTypes of features in processed data (raw dtype, special dtypes):\n",
      "\t\t('float', []) : 22 | ['[QUOTE_UNIXTIME]', '[EXPIRE_UNIX]', '[STRIKE]', '[UNDERLYING_LAST]', '[C_DELTA]', ...]\n",
      "\t0.1s = Fit runtime\n",
      "\t22 features in original data used to generate 22 features in processed data.\n",
      "\tTrain Data (Processed) Memory Usage: 1.85 MB (0.1% of available memory)\n",
      "Data preprocessing and feature engineering runtime = 0.07s ...\n",
      "AutoGluon will gauge predictive performance using evaluation metric: 'root_mean_squared_error'\n",
      "\tThis metric's sign has been flipped to adhere to being higher_is_better. The metric score can be multiplied by -1 to get the metric value.\n",
      "\tTo change this, specify the eval_metric parameter of Predictor()\n",
      "User-specified model hyperparameters to be fit:\n",
      "{\n",
      "\t'NN_TORCH': {},\n",
      "\t'GBM': [{'extra_trees': True, 'ag_args': {'name_suffix': 'XT'}}, {}, 'GBMLarge'],\n",
      "\t'CAT': {},\n",
      "\t'XGB': {},\n",
      "\t'FASTAI': {},\n",
      "\t'RF': [{'criterion': 'gini', 'max_depth': 15, 'ag_args': {'name_suffix': 'Gini', 'problem_types': ['binary', 'multiclass']}}, {'criterion': 'entropy', 'max_depth': 15, 'ag_args': {'name_suffix': 'Entr', 'problem_types': ['binary', 'multiclass']}}, {'criterion': 'squared_error', 'max_depth': 15, 'ag_args': {'name_suffix': 'MSE', 'problem_types': ['regression', 'quantile']}}],\n",
      "\t'XT': [{'criterion': 'gini', 'max_depth': 15, 'ag_args': {'name_suffix': 'Gini', 'problem_types': ['binary', 'multiclass']}}, {'criterion': 'entropy', 'max_depth': 15, 'ag_args': {'name_suffix': 'Entr', 'problem_types': ['binary', 'multiclass']}}, {'criterion': 'squared_error', 'max_depth': 15, 'ag_args': {'name_suffix': 'MSE', 'problem_types': ['regression', 'quantile']}}],\n",
      "}\n",
      "Fitting 9 L1 models ...\n",
      "Fitting model: LightGBMXT ...\n"
     ]
    },
    {
     "name": "stdout",
     "output_type": "stream",
     "text": [
      "[1000]\tvalid_set's rmse: 4.7472\n",
      "[2000]\tvalid_set's rmse: 4.57188\n",
      "[3000]\tvalid_set's rmse: 4.49188\n",
      "[4000]\tvalid_set's rmse: 4.43771\n",
      "[5000]\tvalid_set's rmse: 4.39204\n",
      "[6000]\tvalid_set's rmse: 4.36758\n",
      "[7000]\tvalid_set's rmse: 4.35015\n",
      "[8000]\tvalid_set's rmse: 4.32531\n",
      "[9000]\tvalid_set's rmse: 4.31542\n",
      "[10000]\tvalid_set's rmse: 4.30819\n"
     ]
    },
    {
     "name": "stderr",
     "output_type": "stream",
     "text": [
      "\t-4.3074\t = Validation score   (-root_mean_squared_error)\n",
      "\t29.23s\t = Training   runtime\n",
      "\t0.2s\t = Validation runtime\n",
      "Fitting model: LightGBM ...\n"
     ]
    },
    {
     "name": "stdout",
     "output_type": "stream",
     "text": [
      "[1000]\tvalid_set's rmse: 1.29278\n",
      "[2000]\tvalid_set's rmse: 1.27079\n",
      "[3000]\tvalid_set's rmse: 1.2601\n",
      "[4000]\tvalid_set's rmse: 1.25681\n",
      "[5000]\tvalid_set's rmse: 1.25384\n",
      "[6000]\tvalid_set's rmse: 1.25317\n",
      "[7000]\tvalid_set's rmse: 1.25308\n",
      "[8000]\tvalid_set's rmse: 1.25269\n",
      "[9000]\tvalid_set's rmse: 1.25251\n",
      "[10000]\tvalid_set's rmse: 1.25237\n"
     ]
    },
    {
     "name": "stderr",
     "output_type": "stream",
     "text": [
      "\t-1.2523\t = Validation score   (-root_mean_squared_error)\n",
      "\t29.08s\t = Training   runtime\n",
      "\t0.23s\t = Validation runtime\n",
      "Fitting model: RandomForestMSE ...\n",
      "\t-3.0092\t = Validation score   (-root_mean_squared_error)\n",
      "\t4.31s\t = Training   runtime\n",
      "\t0.03s\t = Validation runtime\n",
      "Fitting model: CatBoost ...\n",
      "\t-2.2835\t = Validation score   (-root_mean_squared_error)\n",
      "\t39.8s\t = Training   runtime\n",
      "\t0.01s\t = Validation runtime\n",
      "Fitting model: ExtraTreesMSE ...\n",
      "\t-3.5477\t = Validation score   (-root_mean_squared_error)\n",
      "\t0.82s\t = Training   runtime\n",
      "\t0.05s\t = Validation runtime\n",
      "Fitting model: NeuralNetFastAI ...\n",
      "\t-2.0073\t = Validation score   (-root_mean_squared_error)\n",
      "\t3.94s\t = Training   runtime\n",
      "\t0.01s\t = Validation runtime\n",
      "Fitting model: XGBoost ...\n",
      "\t-1.5231\t = Validation score   (-root_mean_squared_error)\n",
      "\t6.22s\t = Training   runtime\n",
      "\t0.02s\t = Validation runtime\n",
      "Fitting model: NeuralNetTorch ...\n",
      "\t-5.2274\t = Validation score   (-root_mean_squared_error)\n",
      "\t2.23s\t = Training   runtime\n",
      "\t0.01s\t = Validation runtime\n",
      "Fitting model: LightGBMLarge ...\n"
     ]
    },
    {
     "name": "stdout",
     "output_type": "stream",
     "text": [
      "[1000]\tvalid_set's rmse: 1.69672\n",
      "[2000]\tvalid_set's rmse: 1.69267\n"
     ]
    },
    {
     "name": "stderr",
     "output_type": "stream",
     "text": [
      "\t-1.6924\t = Validation score   (-root_mean_squared_error)\n",
      "\t36.24s\t = Training   runtime\n",
      "\t0.05s\t = Validation runtime\n",
      "Fitting model: WeightedEnsemble_L2 ...\n",
      "\tEnsemble Weights: {'LightGBM': 0.377, 'NeuralNetFastAI': 0.361, 'CatBoost': 0.164, 'XGBoost': 0.066, 'LightGBMXT': 0.033}\n",
      "\t-0.8949\t = Validation score   (-root_mean_squared_error)\n",
      "\t0.07s\t = Training   runtime\n",
      "\t0.0s\t = Validation runtime\n",
      "AutoGluon training complete, total runtime = 153.63s ... Best model: \"WeightedEnsemble_L2\"\n",
      "TabularPredictor saved. To load, use: predictor = TabularPredictor.load(\"AutogluonModels/ag-20240305_002020\")\n"
     ]
    }
   ],
   "source": [
    "from autogluon.tabular import TabularDataset, TabularPredictor\n",
    "predictor = TabularPredictor(label='discounted_price').fit(train_data, val_data, hyperparameters='light', presets='medium_quality')\n",
    "# predictor = TabularPredictor(label='discounted_price').fit(train_data, hyperparameters='light', presets='high_quality')"
   ]
  },
  {
   "cell_type": "code",
   "execution_count": 56,
   "metadata": {},
   "outputs": [
    {
     "data": {
      "text/html": [
       "<div>\n",
       "<style scoped>\n",
       "    .dataframe tbody tr th:only-of-type {\n",
       "        vertical-align: middle;\n",
       "    }\n",
       "\n",
       "    .dataframe tbody tr th {\n",
       "        vertical-align: top;\n",
       "    }\n",
       "\n",
       "    .dataframe thead th {\n",
       "        text-align: right;\n",
       "    }\n",
       "</style>\n",
       "<table border=\"1\" class=\"dataframe\">\n",
       "  <thead>\n",
       "    <tr style=\"text-align: right;\">\n",
       "      <th></th>\n",
       "      <th>model</th>\n",
       "      <th>score_val</th>\n",
       "      <th>eval_metric</th>\n",
       "      <th>pred_time_val</th>\n",
       "      <th>fit_time</th>\n",
       "      <th>pred_time_val_marginal</th>\n",
       "      <th>fit_time_marginal</th>\n",
       "      <th>stack_level</th>\n",
       "      <th>can_infer</th>\n",
       "      <th>fit_order</th>\n",
       "    </tr>\n",
       "  </thead>\n",
       "  <tbody>\n",
       "    <tr>\n",
       "      <th>0</th>\n",
       "      <td>WeightedEnsemble_L2</td>\n",
       "      <td>-0.894902</td>\n",
       "      <td>root_mean_squared_error</td>\n",
       "      <td>0.474811</td>\n",
       "      <td>108.326183</td>\n",
       "      <td>0.000162</td>\n",
       "      <td>0.067670</td>\n",
       "      <td>2</td>\n",
       "      <td>True</td>\n",
       "      <td>10</td>\n",
       "    </tr>\n",
       "    <tr>\n",
       "      <th>1</th>\n",
       "      <td>LightGBM</td>\n",
       "      <td>-1.252302</td>\n",
       "      <td>root_mean_squared_error</td>\n",
       "      <td>0.230433</td>\n",
       "      <td>29.076741</td>\n",
       "      <td>0.230433</td>\n",
       "      <td>29.076741</td>\n",
       "      <td>1</td>\n",
       "      <td>True</td>\n",
       "      <td>2</td>\n",
       "    </tr>\n",
       "    <tr>\n",
       "      <th>2</th>\n",
       "      <td>XGBoost</td>\n",
       "      <td>-1.523076</td>\n",
       "      <td>root_mean_squared_error</td>\n",
       "      <td>0.022918</td>\n",
       "      <td>6.215938</td>\n",
       "      <td>0.022918</td>\n",
       "      <td>6.215938</td>\n",
       "      <td>1</td>\n",
       "      <td>True</td>\n",
       "      <td>7</td>\n",
       "    </tr>\n",
       "    <tr>\n",
       "      <th>3</th>\n",
       "      <td>LightGBMLarge</td>\n",
       "      <td>-1.692418</td>\n",
       "      <td>root_mean_squared_error</td>\n",
       "      <td>0.046503</td>\n",
       "      <td>36.241249</td>\n",
       "      <td>0.046503</td>\n",
       "      <td>36.241249</td>\n",
       "      <td>1</td>\n",
       "      <td>True</td>\n",
       "      <td>9</td>\n",
       "    </tr>\n",
       "    <tr>\n",
       "      <th>4</th>\n",
       "      <td>NeuralNetFastAI</td>\n",
       "      <td>-2.007261</td>\n",
       "      <td>root_mean_squared_error</td>\n",
       "      <td>0.010409</td>\n",
       "      <td>3.936366</td>\n",
       "      <td>0.010409</td>\n",
       "      <td>3.936366</td>\n",
       "      <td>1</td>\n",
       "      <td>True</td>\n",
       "      <td>6</td>\n",
       "    </tr>\n",
       "    <tr>\n",
       "      <th>5</th>\n",
       "      <td>CatBoost</td>\n",
       "      <td>-2.283518</td>\n",
       "      <td>root_mean_squared_error</td>\n",
       "      <td>0.006205</td>\n",
       "      <td>39.795120</td>\n",
       "      <td>0.006205</td>\n",
       "      <td>39.795120</td>\n",
       "      <td>1</td>\n",
       "      <td>True</td>\n",
       "      <td>4</td>\n",
       "    </tr>\n",
       "    <tr>\n",
       "      <th>6</th>\n",
       "      <td>RandomForestMSE</td>\n",
       "      <td>-3.009246</td>\n",
       "      <td>root_mean_squared_error</td>\n",
       "      <td>0.027005</td>\n",
       "      <td>4.314750</td>\n",
       "      <td>0.027005</td>\n",
       "      <td>4.314750</td>\n",
       "      <td>1</td>\n",
       "      <td>True</td>\n",
       "      <td>3</td>\n",
       "    </tr>\n",
       "    <tr>\n",
       "      <th>7</th>\n",
       "      <td>ExtraTreesMSE</td>\n",
       "      <td>-3.547691</td>\n",
       "      <td>root_mean_squared_error</td>\n",
       "      <td>0.048711</td>\n",
       "      <td>0.815917</td>\n",
       "      <td>0.048711</td>\n",
       "      <td>0.815917</td>\n",
       "      <td>1</td>\n",
       "      <td>True</td>\n",
       "      <td>5</td>\n",
       "    </tr>\n",
       "    <tr>\n",
       "      <th>8</th>\n",
       "      <td>LightGBMXT</td>\n",
       "      <td>-4.307437</td>\n",
       "      <td>root_mean_squared_error</td>\n",
       "      <td>0.204684</td>\n",
       "      <td>29.234348</td>\n",
       "      <td>0.204684</td>\n",
       "      <td>29.234348</td>\n",
       "      <td>1</td>\n",
       "      <td>True</td>\n",
       "      <td>1</td>\n",
       "    </tr>\n",
       "    <tr>\n",
       "      <th>9</th>\n",
       "      <td>NeuralNetTorch</td>\n",
       "      <td>-5.227427</td>\n",
       "      <td>root_mean_squared_error</td>\n",
       "      <td>0.006333</td>\n",
       "      <td>2.228752</td>\n",
       "      <td>0.006333</td>\n",
       "      <td>2.228752</td>\n",
       "      <td>1</td>\n",
       "      <td>True</td>\n",
       "      <td>8</td>\n",
       "    </tr>\n",
       "  </tbody>\n",
       "</table>\n",
       "</div>"
      ],
      "text/plain": [
       "                 model  score_val              eval_metric  pred_time_val  \\\n",
       "0  WeightedEnsemble_L2  -0.894902  root_mean_squared_error       0.474811   \n",
       "1             LightGBM  -1.252302  root_mean_squared_error       0.230433   \n",
       "2              XGBoost  -1.523076  root_mean_squared_error       0.022918   \n",
       "3        LightGBMLarge  -1.692418  root_mean_squared_error       0.046503   \n",
       "4      NeuralNetFastAI  -2.007261  root_mean_squared_error       0.010409   \n",
       "5             CatBoost  -2.283518  root_mean_squared_error       0.006205   \n",
       "6      RandomForestMSE  -3.009246  root_mean_squared_error       0.027005   \n",
       "7        ExtraTreesMSE  -3.547691  root_mean_squared_error       0.048711   \n",
       "8           LightGBMXT  -4.307437  root_mean_squared_error       0.204684   \n",
       "9       NeuralNetTorch  -5.227427  root_mean_squared_error       0.006333   \n",
       "\n",
       "     fit_time  pred_time_val_marginal  fit_time_marginal  stack_level  \\\n",
       "0  108.326183                0.000162           0.067670            2   \n",
       "1   29.076741                0.230433          29.076741            1   \n",
       "2    6.215938                0.022918           6.215938            1   \n",
       "3   36.241249                0.046503          36.241249            1   \n",
       "4    3.936366                0.010409           3.936366            1   \n",
       "5   39.795120                0.006205          39.795120            1   \n",
       "6    4.314750                0.027005           4.314750            1   \n",
       "7    0.815917                0.048711           0.815917            1   \n",
       "8   29.234348                0.204684          29.234348            1   \n",
       "9    2.228752                0.006333           2.228752            1   \n",
       "\n",
       "   can_infer  fit_order  \n",
       "0       True         10  \n",
       "1       True          2  \n",
       "2       True          7  \n",
       "3       True          9  \n",
       "4       True          6  \n",
       "5       True          4  \n",
       "6       True          3  \n",
       "7       True          5  \n",
       "8       True          1  \n",
       "9       True          8  "
      ]
     },
     "execution_count": 56,
     "metadata": {},
     "output_type": "execute_result"
    }
   ],
   "source": [
    "predictor.leaderboard()"
   ]
  },
  {
   "cell_type": "code",
   "execution_count": 57,
   "metadata": {},
   "outputs": [],
   "source": [
    "from sklearn import metrics"
   ]
  },
  {
   "cell_type": "code",
   "execution_count": 61,
   "metadata": {},
   "outputs": [
    {
     "name": "stdout",
     "output_type": "stream",
     "text": [
      "0.9905235642099366\n",
      "136.58152828031177\n"
     ]
    }
   ],
   "source": [
    "y_pred = predictor.predict(X_test)\n",
    "print(metrics.r2_score(y_true=y_test, y_pred=y_pred))\n",
    "print(metrics.mean_squared_error(y_true=y_test, y_pred=y_pred))"
   ]
  },
  {
   "cell_type": "code",
   "execution_count": 62,
   "metadata": {},
   "outputs": [
    {
     "name": "stdout",
     "output_type": "stream",
     "text": [
      "Predictions:  \n",
      " 100000   -92.247437\n",
      "100001   -91.822105\n",
      "100002   -91.558266\n",
      "100003   -91.231705\n",
      "100004   -90.913010\n",
      "            ...    \n",
      "100995   -41.729061\n",
      "100996   -37.296516\n",
      "100997   -33.999031\n",
      "100998   -30.852152\n",
      "100999   -27.195103\n",
      "Name: discounted_price, Length: 1000, dtype: float32\n",
      "0.7815977101398484\n",
      "3627.590307650451\n"
     ]
    }
   ],
   "source": [
    "# try test data that is further away\n",
    "X_test = ds[100000:101000]\n",
    "y_test = target[100000:101000]\n",
    "y_pred = predictor.predict(X_test)\n",
    "print(\"Predictions:  \\n\", y_pred)\n",
    "print(metrics.r2_score(y_true=y_test, y_pred=y_pred))\n",
    "print(metrics.mean_squared_error(y_true=y_test, y_pred=y_pred))"
   ]
  }
 ],
 "metadata": {
  "kernelspec": {
   "display_name": "PIC16B-24W",
   "language": "python",
   "name": "python3"
  },
  "language_info": {
   "codemirror_mode": {
    "name": "ipython",
    "version": 3
   },
   "file_extension": ".py",
   "mimetype": "text/x-python",
   "name": "python",
   "nbconvert_exporter": "python",
   "pygments_lexer": "ipython3",
   "version": "3.11.6"
  }
 },
 "nbformat": 4,
 "nbformat_minor": 2
}
