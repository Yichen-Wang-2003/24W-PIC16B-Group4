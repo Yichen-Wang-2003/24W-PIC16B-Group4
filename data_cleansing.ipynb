{
 "cells": [
  {
   "cell_type": "markdown",
   "metadata": {},
   "source": [
    "## Data cleasning and preprocessing of the option pricing data"
   ]
  },
  {
   "cell_type": "code",
   "execution_count": 27,
   "metadata": {},
   "outputs": [],
   "source": [
    "import pandas as pd\n",
    "import numpy as np\n",
    "import matplotlib.pyplot as plt\n",
    "import sklearn\n",
    "import yfinance as yf\n",
    "import sqlite3\n"
   ]
  },
  {
   "cell_type": "code",
   "execution_count": 2,
   "metadata": {},
   "outputs": [
    {
     "name": "stderr",
     "output_type": "stream",
     "text": [
      "/var/folders/lc/cr1vnr593_l4t1814jghhy980000gn/T/ipykernel_800/79976602.py:4: DtypeWarning: Columns (13) have mixed types. Specify dtype option on import or set low_memory=False.\n",
      "  df_2023_h1 = pd.concat([df_2023_h1, pd.read_table(f'data/spy_eod_{i}.txt', sep=',')], ignore_index=True)\n"
     ]
    }
   ],
   "source": [
    "# Read in the data from Jan 2023 to June 2023\n",
    "df_2023_h1 = pd.DataFrame()\n",
    "for i in [202301, 202302, 202303, 202304,  202305]:\n",
    "    df_2023_h1 = pd.concat([df_2023_h1, pd.read_table(f'data/spy_eod_{i}.txt', sep=',')], ignore_index=True)\n",
    "df_2023_h1.columns = df_2023_h1.columns.str.strip()"
   ]
  },
  {
   "cell_type": "code",
   "execution_count": 3,
   "metadata": {},
   "outputs": [],
   "source": [
    "# also drop expiration date later than 2024\n",
    "df_2023_h1 = df_2023_h1[df_2023_h1['[EXPIRE_DATE]'] <= ' 2023-12-31']\n",
    "df_2023_h1 = df_2023_h1.reset_index()"
   ]
  },
  {
   "cell_type": "code",
   "execution_count": 5,
   "metadata": {},
   "outputs": [
    {
     "name": "stderr",
     "output_type": "stream",
     "text": [
      "[*********************100%%**********************]  1 of 1 completed\n"
     ]
    },
    {
     "data": {
      "text/html": [
       "<div>\n",
       "<style scoped>\n",
       "    .dataframe tbody tr th:only-of-type {\n",
       "        vertical-align: middle;\n",
       "    }\n",
       "\n",
       "    .dataframe tbody tr th {\n",
       "        vertical-align: top;\n",
       "    }\n",
       "\n",
       "    .dataframe thead th {\n",
       "        text-align: right;\n",
       "    }\n",
       "</style>\n",
       "<table border=\"1\" class=\"dataframe\">\n",
       "  <thead>\n",
       "    <tr style=\"text-align: right;\">\n",
       "      <th></th>\n",
       "      <th>Adj Close</th>\n",
       "    </tr>\n",
       "    <tr>\n",
       "      <th>Date</th>\n",
       "      <th></th>\n",
       "    </tr>\n",
       "  </thead>\n",
       "  <tbody>\n",
       "    <tr>\n",
       "      <th>2023-01-03</th>\n",
       "      <td>375.118713</td>\n",
       "    </tr>\n",
       "    <tr>\n",
       "      <th>2023-01-04</th>\n",
       "      <td>378.014709</td>\n",
       "    </tr>\n",
       "    <tr>\n",
       "      <th>2023-01-05</th>\n",
       "      <td>373.700256</td>\n",
       "    </tr>\n",
       "    <tr>\n",
       "      <th>2023-01-06</th>\n",
       "      <td>382.269989</td>\n",
       "    </tr>\n",
       "    <tr>\n",
       "      <th>2023-01-09</th>\n",
       "      <td>382.053284</td>\n",
       "    </tr>\n",
       "    <tr>\n",
       "      <th>...</th>\n",
       "      <td>...</td>\n",
       "    </tr>\n",
       "    <tr>\n",
       "      <th>2023-12-22</th>\n",
       "      <td>473.649994</td>\n",
       "    </tr>\n",
       "    <tr>\n",
       "      <th>2023-12-26</th>\n",
       "      <td>475.649994</td>\n",
       "    </tr>\n",
       "    <tr>\n",
       "      <th>2023-12-27</th>\n",
       "      <td>476.510010</td>\n",
       "    </tr>\n",
       "    <tr>\n",
       "      <th>2023-12-28</th>\n",
       "      <td>476.690002</td>\n",
       "    </tr>\n",
       "    <tr>\n",
       "      <th>2023-12-29</th>\n",
       "      <td>475.309998</td>\n",
       "    </tr>\n",
       "  </tbody>\n",
       "</table>\n",
       "<p>250 rows × 1 columns</p>\n",
       "</div>"
      ],
      "text/plain": [
       "             Adj Close\n",
       "Date                  \n",
       "2023-01-03  375.118713\n",
       "2023-01-04  378.014709\n",
       "2023-01-05  373.700256\n",
       "2023-01-06  382.269989\n",
       "2023-01-09  382.053284\n",
       "...                ...\n",
       "2023-12-22  473.649994\n",
       "2023-12-26  475.649994\n",
       "2023-12-27  476.510010\n",
       "2023-12-28  476.690002\n",
       "2023-12-29  475.309998\n",
       "\n",
       "[250 rows x 1 columns]"
      ]
     },
     "execution_count": 5,
     "metadata": {},
     "output_type": "execute_result"
    }
   ],
   "source": [
    "# get adj close data from yfinance\n",
    "target = pd.DataFrame(yf.download(['SPY'], start=\"2023-01-01\", end=\"2023-12-31\")['Adj Close'])\n",
    "target"
   ]
  },
  {
   "cell_type": "code",
   "execution_count": 6,
   "metadata": {},
   "outputs": [
    {
     "data": {
      "text/plain": [
       "<DatetimeArray>\n",
       "['2023-01-03 00:00:00', '2023-01-04 00:00:00', '2023-01-05 00:00:00',\n",
       " '2023-01-06 00:00:00', '2023-01-09 00:00:00', '2023-01-10 00:00:00',\n",
       " '2023-01-11 00:00:00', '2023-01-12 00:00:00', '2023-01-13 00:00:00',\n",
       " '2023-01-20 00:00:00',\n",
       " ...\n",
       " '2023-06-01 00:00:00', '2023-06-05 00:00:00', '2023-06-06 00:00:00',\n",
       " '2023-06-07 00:00:00', '2023-06-08 00:00:00', '2023-07-07 00:00:00',\n",
       " '2023-06-12 00:00:00', '2023-06-13 00:00:00', '2023-06-14 00:00:00',\n",
       " '2023-11-17 00:00:00']\n",
       "Length: 125, dtype: datetime64[ns]"
      ]
     },
     "execution_count": 6,
     "metadata": {},
     "output_type": "execute_result"
    }
   ],
   "source": [
    "df_2023_h1['[EXPIRE_DATE]'] = df_2023_h1['[EXPIRE_DATE]'].str.strip().astype('datetime64[ns]')\n",
    "df_2023_h1['[EXPIRE_DATE]'].unique()"
   ]
  },
  {
   "cell_type": "code",
   "execution_count": 7,
   "metadata": {},
   "outputs": [
    {
     "data": {
      "text/plain": [
       "Date\n",
       "2023-01-03   2023-01-03\n",
       "2023-01-04   2023-01-04\n",
       "2023-01-05   2023-01-05\n",
       "2023-01-06   2023-01-06\n",
       "2023-01-09   2023-01-09\n",
       "                ...    \n",
       "2023-12-22   2023-12-22\n",
       "2023-12-26   2023-12-26\n",
       "2023-12-27   2023-12-27\n",
       "2023-12-28   2023-12-28\n",
       "2023-12-29   2023-12-29\n",
       "Name: [EXPIRE_DATE], Length: 250, dtype: datetime64[ns]"
      ]
     },
     "execution_count": 7,
     "metadata": {},
     "output_type": "execute_result"
    }
   ],
   "source": [
    "target['[EXPIRE_DATE]'] = target.index\n",
    "target['[EXPIRE_DATE]'].astype('datetime64[ns]')"
   ]
  },
  {
   "cell_type": "code",
   "execution_count": 8,
   "metadata": {},
   "outputs": [],
   "source": [
    "df_2023_h1 = pd.merge(df_2023_h1, target, on = '[EXPIRE_DATE]')"
   ]
  },
  {
   "cell_type": "code",
   "execution_count": 9,
   "metadata": {},
   "outputs": [
    {
     "data": {
      "text/plain": [
       "Index(['index', '[QUOTE_UNIXTIME]', '[QUOTE_READTIME]', '[QUOTE_DATE]',\n",
       "       '[QUOTE_TIME_HOURS]', '[UNDERLYING_LAST]', '[EXPIRE_DATE]',\n",
       "       '[EXPIRE_UNIX]', '[DTE]', '[C_DELTA]', '[C_GAMMA]', '[C_VEGA]',\n",
       "       '[C_THETA]', '[C_RHO]', '[C_IV]', '[C_VOLUME]', '[C_LAST]', '[C_SIZE]',\n",
       "       '[C_BID]', '[C_ASK]', '[STRIKE]', '[P_BID]', '[P_ASK]', '[P_SIZE]',\n",
       "       '[P_LAST]', '[P_DELTA]', '[P_GAMMA]', '[P_VEGA]', '[P_THETA]',\n",
       "       '[P_RHO]', '[P_IV]', '[P_VOLUME]', '[STRIKE_DISTANCE]',\n",
       "       '[STRIKE_DISTANCE_PCT]', 'Adj Close'],\n",
       "      dtype='object')"
      ]
     },
     "execution_count": 9,
     "metadata": {},
     "output_type": "execute_result"
    }
   ],
   "source": [
    "df_2023_h1.columns"
   ]
  },
  {
   "cell_type": "code",
   "execution_count": 10,
   "metadata": {},
   "outputs": [],
   "source": [
    "df_2023_h1['maturity_time'] = df_2023_h1['[EXPIRE_DATE]'] - df_2023_h1['[QUOTE_DATE]'].astype('datetime64[ns]')\n",
    "# Convert the Timedelta to total seconds and then divide by the number of seconds in a day to get days as a float\n",
    "df_2023_h1['maturity_time'] = df_2023_h1['maturity_time'].dt.total_seconds() / (60 * 60 * 24 * 365)\n"
   ]
  },
  {
   "cell_type": "code",
   "execution_count": 11,
   "metadata": {},
   "outputs": [],
   "source": [
    "import math\n",
    "df_2023_h1['discounted_price'] = df_2023_h1['Adj Close']\n",
    "for i in range(len(df_2023_h1)):\n",
    "    df_2023_h1['discounted_price'] = (df_2023_h1['[STRIKE]']-df_2023_h1['Adj Close'])*math.exp(df_2023_h1['maturity_time'][i]*(-0.04))"
   ]
  },
  {
   "cell_type": "code",
   "execution_count": 12,
   "metadata": {},
   "outputs": [
    {
     "data": {
      "text/html": [
       "<div>\n",
       "<style scoped>\n",
       "    .dataframe tbody tr th:only-of-type {\n",
       "        vertical-align: middle;\n",
       "    }\n",
       "\n",
       "    .dataframe tbody tr th {\n",
       "        vertical-align: top;\n",
       "    }\n",
       "\n",
       "    .dataframe thead th {\n",
       "        text-align: right;\n",
       "    }\n",
       "</style>\n",
       "<table border=\"1\" class=\"dataframe\">\n",
       "  <thead>\n",
       "    <tr style=\"text-align: right;\">\n",
       "      <th></th>\n",
       "      <th>index</th>\n",
       "      <th>[QUOTE_UNIXTIME]</th>\n",
       "      <th>[QUOTE_READTIME]</th>\n",
       "      <th>[QUOTE_DATE]</th>\n",
       "      <th>[QUOTE_TIME_HOURS]</th>\n",
       "      <th>[UNDERLYING_LAST]</th>\n",
       "      <th>[EXPIRE_DATE]</th>\n",
       "      <th>[EXPIRE_UNIX]</th>\n",
       "      <th>[DTE]</th>\n",
       "      <th>[C_DELTA]</th>\n",
       "      <th>...</th>\n",
       "      <th>[P_VEGA]</th>\n",
       "      <th>[P_THETA]</th>\n",
       "      <th>[P_RHO]</th>\n",
       "      <th>[P_IV]</th>\n",
       "      <th>[P_VOLUME]</th>\n",
       "      <th>[STRIKE_DISTANCE]</th>\n",
       "      <th>[STRIKE_DISTANCE_PCT]</th>\n",
       "      <th>Adj Close</th>\n",
       "      <th>maturity_time</th>\n",
       "      <th>discounted_price</th>\n",
       "    </tr>\n",
       "  </thead>\n",
       "  <tbody>\n",
       "    <tr>\n",
       "      <th>0</th>\n",
       "      <td>0</td>\n",
       "      <td>1672779600</td>\n",
       "      <td>2023-01-03 16:00</td>\n",
       "      <td>2023-01-03</td>\n",
       "      <td>16.0</td>\n",
       "      <td>380.82</td>\n",
       "      <td>2023-01-03</td>\n",
       "      <td>1672779600</td>\n",
       "      <td>0.00</td>\n",
       "      <td>0.96551</td>\n",
       "      <td>...</td>\n",
       "      <td>0.00072</td>\n",
       "      <td>-0.00483</td>\n",
       "      <td>-0.00015</td>\n",
       "      <td>1.210050</td>\n",
       "      <td>0.000000</td>\n",
       "      <td>70.8</td>\n",
       "      <td>0.186</td>\n",
       "      <td>375.118713</td>\n",
       "      <td>0.000000</td>\n",
       "      <td>-63.916774</td>\n",
       "    </tr>\n",
       "    <tr>\n",
       "      <th>1</th>\n",
       "      <td>1</td>\n",
       "      <td>1672779600</td>\n",
       "      <td>2023-01-03 16:00</td>\n",
       "      <td>2023-01-03</td>\n",
       "      <td>16.0</td>\n",
       "      <td>380.82</td>\n",
       "      <td>2023-01-03</td>\n",
       "      <td>1672779600</td>\n",
       "      <td>0.00</td>\n",
       "      <td>0.96015</td>\n",
       "      <td>...</td>\n",
       "      <td>0.00104</td>\n",
       "      <td>-0.00487</td>\n",
       "      <td>0.00000</td>\n",
       "      <td>0.996160</td>\n",
       "      <td>0.000000</td>\n",
       "      <td>60.8</td>\n",
       "      <td>0.160</td>\n",
       "      <td>375.118713</td>\n",
       "      <td>0.000000</td>\n",
       "      <td>-54.101350</td>\n",
       "    </tr>\n",
       "    <tr>\n",
       "      <th>2</th>\n",
       "      <td>2</td>\n",
       "      <td>1672779600</td>\n",
       "      <td>2023-01-03 16:00</td>\n",
       "      <td>2023-01-03</td>\n",
       "      <td>16.0</td>\n",
       "      <td>380.82</td>\n",
       "      <td>2023-01-03</td>\n",
       "      <td>1672779600</td>\n",
       "      <td>0.00</td>\n",
       "      <td>0.95788</td>\n",
       "      <td>...</td>\n",
       "      <td>0.00105</td>\n",
       "      <td>-0.00538</td>\n",
       "      <td>-0.00007</td>\n",
       "      <td>0.911990</td>\n",
       "      <td></td>\n",
       "      <td>56.8</td>\n",
       "      <td>0.149</td>\n",
       "      <td>375.118713</td>\n",
       "      <td>0.000000</td>\n",
       "      <td>-50.175181</td>\n",
       "    </tr>\n",
       "    <tr>\n",
       "      <th>3</th>\n",
       "      <td>3</td>\n",
       "      <td>1672779600</td>\n",
       "      <td>2023-01-03 16:00</td>\n",
       "      <td>2023-01-03</td>\n",
       "      <td>16.0</td>\n",
       "      <td>380.82</td>\n",
       "      <td>2023-01-03</td>\n",
       "      <td>1672779600</td>\n",
       "      <td>0.00</td>\n",
       "      <td>0.96337</td>\n",
       "      <td>...</td>\n",
       "      <td>0.00115</td>\n",
       "      <td>-0.00500</td>\n",
       "      <td>-0.00048</td>\n",
       "      <td>0.890650</td>\n",
       "      <td>0.000000</td>\n",
       "      <td>55.8</td>\n",
       "      <td>0.147</td>\n",
       "      <td>375.118713</td>\n",
       "      <td>0.000000</td>\n",
       "      <td>-49.193639</td>\n",
       "    </tr>\n",
       "    <tr>\n",
       "      <th>4</th>\n",
       "      <td>4</td>\n",
       "      <td>1672779600</td>\n",
       "      <td>2023-01-03 16:00</td>\n",
       "      <td>2023-01-03</td>\n",
       "      <td>16.0</td>\n",
       "      <td>380.82</td>\n",
       "      <td>2023-01-03</td>\n",
       "      <td>1672779600</td>\n",
       "      <td>0.00</td>\n",
       "      <td>0.95600</td>\n",
       "      <td>...</td>\n",
       "      <td>0.00043</td>\n",
       "      <td>-0.00533</td>\n",
       "      <td>-0.00044</td>\n",
       "      <td>0.870040</td>\n",
       "      <td>0.000000</td>\n",
       "      <td>54.8</td>\n",
       "      <td>0.144</td>\n",
       "      <td>375.118713</td>\n",
       "      <td>0.000000</td>\n",
       "      <td>-48.212096</td>\n",
       "    </tr>\n",
       "    <tr>\n",
       "      <th>...</th>\n",
       "      <td>...</td>\n",
       "      <td>...</td>\n",
       "      <td>...</td>\n",
       "      <td>...</td>\n",
       "      <td>...</td>\n",
       "      <td>...</td>\n",
       "      <td>...</td>\n",
       "      <td>...</td>\n",
       "      <td>...</td>\n",
       "      <td>...</td>\n",
       "      <td>...</td>\n",
       "      <td>...</td>\n",
       "      <td>...</td>\n",
       "      <td>...</td>\n",
       "      <td>...</td>\n",
       "      <td>...</td>\n",
       "      <td>...</td>\n",
       "      <td>...</td>\n",
       "      <td>...</td>\n",
       "      <td>...</td>\n",
       "      <td>...</td>\n",
       "    </tr>\n",
       "    <tr>\n",
       "      <th>331604</th>\n",
       "      <td>402970</td>\n",
       "      <td>1685563200</td>\n",
       "      <td>2023-05-31 16:00</td>\n",
       "      <td>2023-05-31</td>\n",
       "      <td>16.0</td>\n",
       "      <td>417.80</td>\n",
       "      <td>2023-11-17</td>\n",
       "      <td>1700254800</td>\n",
       "      <td>170.04</td>\n",
       "      <td>0.46263</td>\n",
       "      <td>...</td>\n",
       "      <td>1.09166</td>\n",
       "      <td>-0.03382</td>\n",
       "      <td>-0.83587</td>\n",
       "      <td>0.151640</td>\n",
       "      <td></td>\n",
       "      <td>12.2</td>\n",
       "      <td>0.029</td>\n",
       "      <td>448.969696</td>\n",
       "      <td>0.465753</td>\n",
       "      <td>-18.619560</td>\n",
       "    </tr>\n",
       "    <tr>\n",
       "      <th>331605</th>\n",
       "      <td>402971</td>\n",
       "      <td>1685563200</td>\n",
       "      <td>2023-05-31 16:00</td>\n",
       "      <td>2023-05-31</td>\n",
       "      <td>16.0</td>\n",
       "      <td>417.80</td>\n",
       "      <td>2023-11-17</td>\n",
       "      <td>1700254800</td>\n",
       "      <td>170.04</td>\n",
       "      <td>0.41652</td>\n",
       "      <td>...</td>\n",
       "      <td>1.04196</td>\n",
       "      <td>-0.02957</td>\n",
       "      <td>-0.84217</td>\n",
       "      <td>0.146010</td>\n",
       "      <td></td>\n",
       "      <td>17.2</td>\n",
       "      <td>0.041</td>\n",
       "      <td>448.969696</td>\n",
       "      <td>0.465753</td>\n",
       "      <td>-13.711848</td>\n",
       "    </tr>\n",
       "    <tr>\n",
       "      <th>331606</th>\n",
       "      <td>402972</td>\n",
       "      <td>1685563200</td>\n",
       "      <td>2023-05-31 16:00</td>\n",
       "      <td>2023-05-31</td>\n",
       "      <td>16.0</td>\n",
       "      <td>417.80</td>\n",
       "      <td>2023-11-17</td>\n",
       "      <td>1700254800</td>\n",
       "      <td>170.04</td>\n",
       "      <td>0.36824</td>\n",
       "      <td>...</td>\n",
       "      <td>0.95627</td>\n",
       "      <td>-0.02495</td>\n",
       "      <td>-0.81425</td>\n",
       "      <td>0.139300</td>\n",
       "      <td></td>\n",
       "      <td>22.2</td>\n",
       "      <td>0.053</td>\n",
       "      <td>448.969696</td>\n",
       "      <td>0.465753</td>\n",
       "      <td>-8.804136</td>\n",
       "    </tr>\n",
       "    <tr>\n",
       "      <th>331607</th>\n",
       "      <td>402973</td>\n",
       "      <td>1685563200</td>\n",
       "      <td>2023-05-31 16:00</td>\n",
       "      <td>2023-05-31</td>\n",
       "      <td>16.0</td>\n",
       "      <td>417.80</td>\n",
       "      <td>2023-11-17</td>\n",
       "      <td>1700254800</td>\n",
       "      <td>170.04</td>\n",
       "      <td>0.31986</td>\n",
       "      <td>...</td>\n",
       "      <td>0.84518</td>\n",
       "      <td>-0.02035</td>\n",
       "      <td>-0.76245</td>\n",
       "      <td>0.137080</td>\n",
       "      <td></td>\n",
       "      <td>27.2</td>\n",
       "      <td>0.065</td>\n",
       "      <td>448.969696</td>\n",
       "      <td>0.465753</td>\n",
       "      <td>-3.896425</td>\n",
       "    </tr>\n",
       "    <tr>\n",
       "      <th>331608</th>\n",
       "      <td>402974</td>\n",
       "      <td>1685563200</td>\n",
       "      <td>2023-05-31 16:00</td>\n",
       "      <td>2023-05-31</td>\n",
       "      <td>16.0</td>\n",
       "      <td>417.80</td>\n",
       "      <td>2023-11-17</td>\n",
       "      <td>1700254800</td>\n",
       "      <td>170.04</td>\n",
       "      <td>0.26943</td>\n",
       "      <td>...</td>\n",
       "      <td>0.68840</td>\n",
       "      <td>-0.01524</td>\n",
       "      <td>-0.65548</td>\n",
       "      <td>0.132560</td>\n",
       "      <td></td>\n",
       "      <td>32.2</td>\n",
       "      <td>0.077</td>\n",
       "      <td>448.969696</td>\n",
       "      <td>0.465753</td>\n",
       "      <td>1.011287</td>\n",
       "    </tr>\n",
       "  </tbody>\n",
       "</table>\n",
       "<p>331609 rows × 37 columns</p>\n",
       "</div>"
      ],
      "text/plain": [
       "         index  [QUOTE_UNIXTIME]   [QUOTE_READTIME] [QUOTE_DATE]  \\\n",
       "0            0        1672779600   2023-01-03 16:00   2023-01-03   \n",
       "1            1        1672779600   2023-01-03 16:00   2023-01-03   \n",
       "2            2        1672779600   2023-01-03 16:00   2023-01-03   \n",
       "3            3        1672779600   2023-01-03 16:00   2023-01-03   \n",
       "4            4        1672779600   2023-01-03 16:00   2023-01-03   \n",
       "...        ...               ...                ...          ...   \n",
       "331604  402970        1685563200   2023-05-31 16:00   2023-05-31   \n",
       "331605  402971        1685563200   2023-05-31 16:00   2023-05-31   \n",
       "331606  402972        1685563200   2023-05-31 16:00   2023-05-31   \n",
       "331607  402973        1685563200   2023-05-31 16:00   2023-05-31   \n",
       "331608  402974        1685563200   2023-05-31 16:00   2023-05-31   \n",
       "\n",
       "        [QUOTE_TIME_HOURS]  [UNDERLYING_LAST] [EXPIRE_DATE]  [EXPIRE_UNIX]  \\\n",
       "0                     16.0             380.82    2023-01-03     1672779600   \n",
       "1                     16.0             380.82    2023-01-03     1672779600   \n",
       "2                     16.0             380.82    2023-01-03     1672779600   \n",
       "3                     16.0             380.82    2023-01-03     1672779600   \n",
       "4                     16.0             380.82    2023-01-03     1672779600   \n",
       "...                    ...                ...           ...            ...   \n",
       "331604                16.0             417.80    2023-11-17     1700254800   \n",
       "331605                16.0             417.80    2023-11-17     1700254800   \n",
       "331606                16.0             417.80    2023-11-17     1700254800   \n",
       "331607                16.0             417.80    2023-11-17     1700254800   \n",
       "331608                16.0             417.80    2023-11-17     1700254800   \n",
       "\n",
       "         [DTE]  [C_DELTA]  ...  [P_VEGA]  [P_THETA]  [P_RHO]     [P_IV]  \\\n",
       "0         0.00    0.96551  ...   0.00072   -0.00483 -0.00015   1.210050   \n",
       "1         0.00    0.96015  ...   0.00104   -0.00487  0.00000   0.996160   \n",
       "2         0.00    0.95788  ...   0.00105   -0.00538 -0.00007   0.911990   \n",
       "3         0.00    0.96337  ...   0.00115   -0.00500 -0.00048   0.890650   \n",
       "4         0.00    0.95600  ...   0.00043   -0.00533 -0.00044   0.870040   \n",
       "...        ...        ...  ...       ...        ...      ...        ...   \n",
       "331604  170.04    0.46263  ...   1.09166   -0.03382 -0.83587   0.151640   \n",
       "331605  170.04    0.41652  ...   1.04196   -0.02957 -0.84217   0.146010   \n",
       "331606  170.04    0.36824  ...   0.95627   -0.02495 -0.81425   0.139300   \n",
       "331607  170.04    0.31986  ...   0.84518   -0.02035 -0.76245   0.137080   \n",
       "331608  170.04    0.26943  ...   0.68840   -0.01524 -0.65548   0.132560   \n",
       "\n",
       "       [P_VOLUME] [STRIKE_DISTANCE]  [STRIKE_DISTANCE_PCT]   Adj Close  \\\n",
       "0        0.000000              70.8                  0.186  375.118713   \n",
       "1        0.000000              60.8                  0.160  375.118713   \n",
       "2                              56.8                  0.149  375.118713   \n",
       "3        0.000000              55.8                  0.147  375.118713   \n",
       "4        0.000000              54.8                  0.144  375.118713   \n",
       "...           ...               ...                    ...         ...   \n",
       "331604                         12.2                  0.029  448.969696   \n",
       "331605                         17.2                  0.041  448.969696   \n",
       "331606                         22.2                  0.053  448.969696   \n",
       "331607                         27.2                  0.065  448.969696   \n",
       "331608                         32.2                  0.077  448.969696   \n",
       "\n",
       "        maturity_time  discounted_price  \n",
       "0            0.000000        -63.916774  \n",
       "1            0.000000        -54.101350  \n",
       "2            0.000000        -50.175181  \n",
       "3            0.000000        -49.193639  \n",
       "4            0.000000        -48.212096  \n",
       "...               ...               ...  \n",
       "331604       0.465753        -18.619560  \n",
       "331605       0.465753        -13.711848  \n",
       "331606       0.465753         -8.804136  \n",
       "331607       0.465753         -3.896425  \n",
       "331608       0.465753          1.011287  \n",
       "\n",
       "[331609 rows x 37 columns]"
      ]
     },
     "execution_count": 12,
     "metadata": {},
     "output_type": "execute_result"
    }
   ],
   "source": [
    "df_2023_h1"
   ]
  },
  {
   "cell_type": "code",
   "execution_count": 20,
   "metadata": {},
   "outputs": [
    {
     "data": {
      "text/plain": [
       "str"
      ]
     },
     "execution_count": 20,
     "metadata": {},
     "output_type": "execute_result"
    }
   ],
   "source": [
    "type(df_2023_h1['[QUOTE_DATE]'][0])"
   ]
  },
  {
   "cell_type": "code",
   "execution_count": 31,
   "metadata": {},
   "outputs": [
    {
     "data": {
      "text/plain": [
       "Index(['index', '[QUOTE_UNIXTIME]', '[QUOTE_READTIME]', '[QUOTE_DATE]',\n",
       "       '[QUOTE_TIME_HOURS]', '[UNDERLYING_LAST]', '[EXPIRE_DATE]',\n",
       "       '[EXPIRE_UNIX]', '[DTE]', '[C_DELTA]', '[C_GAMMA]', '[C_VEGA]',\n",
       "       '[C_THETA]', '[C_RHO]', '[C_IV]', '[C_VOLUME]', '[C_LAST]', '[C_SIZE]',\n",
       "       '[C_BID]', '[C_ASK]', '[STRIKE]', '[P_BID]', '[P_ASK]', '[P_SIZE]',\n",
       "       '[P_LAST]', '[P_DELTA]', '[P_GAMMA]', '[P_VEGA]', '[P_THETA]',\n",
       "       '[P_RHO]', '[P_IV]', '[P_VOLUME]', '[STRIKE_DISTANCE]',\n",
       "       '[STRIKE_DISTANCE_PCT]', 'Adj Close', 'maturity_time', 'discount_rate',\n",
       "       'discounted_price'],\n",
       "      dtype='object')"
      ]
     },
     "execution_count": 31,
     "metadata": {},
     "output_type": "execute_result"
    }
   ],
   "source": [
    "df_2023_h1.columns"
   ]
  },
  {
   "cell_type": "code",
   "execution_count": 21,
   "metadata": {},
   "outputs": [
    {
     "name": "stdout",
     "output_type": "stream",
     "text": [
      "<class 'numpy.int64'>\n",
      "<class 'numpy.int64'>\n",
      "<class 'numpy.float64'>\n",
      "<class 'numpy.float64'>\n",
      "<class 'numpy.float64'>\n",
      "<class 'numpy.float64'>\n",
      "<class 'numpy.float64'>\n",
      "<class 'numpy.float64'>\n",
      "<class 'numpy.float64'>\n",
      "<class 'str'>\n",
      "<class 'str'>\n",
      "<class 'numpy.float64'>\n",
      "<class 'numpy.float64'>\n",
      "<class 'numpy.float64'>\n",
      "<class 'numpy.float64'>\n",
      "<class 'numpy.float64'>\n",
      "<class 'numpy.float64'>\n",
      "<class 'numpy.float64'>\n",
      "<class 'str'>\n",
      "<class 'str'>\n",
      "<class 'numpy.float64'>\n",
      "<class 'numpy.float64'>\n",
      "<class 'numpy.float64'>\n"
     ]
    }
   ],
   "source": [
    "df_2023_h1 = df_2023_h1[['[QUOTE_UNIXTIME]', '[EXPIRE_UNIX]', '[STRIKE]', '[UNDERLYING_LAST]', '[C_DELTA]', '[C_GAMMA]', '[C_VEGA]',\n",
    "       '[C_THETA]', '[C_RHO]', '[C_IV]', '[C_VOLUME]','[C_BID]', '[C_ASK]', '[P_DELTA]', '[P_GAMMA]', '[P_VEGA]', '[P_THETA]',\n",
    "       '[P_RHO]', '[P_IV]', '[P_VOLUME]', '[P_BID]', '[P_ASK]', 'discounted_price']]\n",
    "for column in df_2023_h1.columns:\n",
    "    print(type(df_2023_h1[column][0]))"
   ]
  },
  {
   "cell_type": "code",
   "execution_count": 22,
   "metadata": {},
   "outputs": [],
   "source": [
    "df_2023_h1 = df_2023_h1.replace(r'^\\s*$', 0, regex=True)"
   ]
  },
  {
   "cell_type": "code",
   "execution_count": 23,
   "metadata": {},
   "outputs": [
    {
     "name": "stdout",
     "output_type": "stream",
     "text": [
      "<class 'numpy.float64'>\n",
      "<class 'numpy.float64'>\n",
      "<class 'numpy.float64'>\n",
      "<class 'numpy.float64'>\n"
     ]
    }
   ],
   "source": [
    "for column in ['[C_IV]', '[C_VOLUME]', '[P_IV]', '[P_VOLUME]']:\n",
    "    df_2023_h1[column] = df_2023_h1[column].str.strip().astype('float64')\n",
    "    print(type(df_2023_h1[column][0]))"
   ]
  },
  {
   "cell_type": "code",
   "execution_count": 24,
   "metadata": {},
   "outputs": [],
   "source": [
    "df_2023_h1 = df_2023_h1.fillna(0)"
   ]
  },
  {
   "cell_type": "code",
   "execution_count": 25,
   "metadata": {},
   "outputs": [],
   "source": [
    "# Basic normalization and standardization\n",
    "# run block of code and catch warnings\n",
    "import warnings\n",
    "from sklearn.preprocessing import StandardScaler\n",
    "with warnings.catch_warnings():\n",
    "\t# ignore all caught warnings\n",
    "\twarnings.filterwarnings(\"ignore\")\n",
    "\t# execute code that will generate warnings\n",
    "\t# dont standardize unixtime '[QUOTE_UNIXTIME]', '[EXPIRE_UNIX]', if it does what I think it does. \n",
    "\tnumeric_cols = ['[STRIKE]', '[UNDERLYING_LAST]', '[C_DELTA]', '[C_GAMMA]', '[C_VEGA]',\n",
    "       '[C_THETA]', '[C_RHO]', '[C_IV]', '[C_VOLUME]','[C_BID]', '[C_ASK]', '[P_DELTA]', '[P_GAMMA]', '[P_VEGA]', '[P_THETA]',\n",
    "       '[P_RHO]', '[P_IV]', '[P_VOLUME]', '[P_BID]', '[P_ASK]']  # not sure about all this, we ball\n",
    "\tscaler = StandardScaler()\n",
    "\tdf_2023_h1[numeric_cols] = scaler.fit_transform(df_2023_h1[numeric_cols])"
   ]
  },
  {
   "cell_type": "code",
   "execution_count": 34,
   "metadata": {},
   "outputs": [],
   "source": [
    " # split target into two df\n",
    "target = df_2023_h1['discounted_price']\n",
    "df_2023_h1 = df_2023_h1.drop('discounted_price', axis=1)"
   ]
  },
  {
   "cell_type": "code",
   "execution_count": 35,
   "metadata": {},
   "outputs": [],
   "source": [
    "# output the df_2023_h1 to a csv file, output to the desktop\n",
    "df_2023_h1.to_csv(r'data/df_2023_h1.csv', index = False, header=True)\n",
    "target.to_csv(r'data/target.csv', index = False, header=True)"
   ]
  },
  {
   "cell_type": "code",
   "execution_count": 36,
   "metadata": {},
   "outputs": [],
   "source": [
    "# output to sqlite database if anyone cares\n",
    "conn = sqlite3.connect(\"data/tables.db\")\n",
    "df_2023_h1.to_sql(\"df_2023_h1_train\", conn, if_exists = \"replace\", index=False)\n",
    "target.to_sql(\"df_2023_h1_target\", conn, if_exists = \"replace\", index=False)\n",
    "conn.close()"
   ]
  }
 ],
 "metadata": {
  "kernelspec": {
   "display_name": "YichenWang",
   "language": "python",
   "name": "python3"
  },
  "language_info": {
   "codemirror_mode": {
    "name": "ipython",
    "version": 3
   },
   "file_extension": ".py",
   "mimetype": "text/x-python",
   "name": "python",
   "nbconvert_exporter": "python",
   "pygments_lexer": "ipython3",
   "version": "3.11.6"
  }
 },
 "nbformat": 4,
 "nbformat_minor": 2
}
