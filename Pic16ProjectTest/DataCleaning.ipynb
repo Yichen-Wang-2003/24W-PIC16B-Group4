{
 "cells": [
  {
   "cell_type": "code",
   "execution_count": 1,
   "metadata": {},
   "outputs": [],
   "source": [
    "import pandas as pd"
   ]
  },
  {
   "cell_type": "code",
   "execution_count": 3,
   "metadata": {},
   "outputs": [],
   "source": [
    "df = pd.read_table('../data/spy_eod_2023q1/spy_eod_202301.txt')"
   ]
  },
  {
   "cell_type": "code",
   "execution_count": 9,
   "metadata": {},
   "outputs": [
    {
     "data": {
      "text/html": [
       "<div>\n",
       "<style scoped>\n",
       "    .dataframe tbody tr th:only-of-type {\n",
       "        vertical-align: middle;\n",
       "    }\n",
       "\n",
       "    .dataframe tbody tr th {\n",
       "        vertical-align: top;\n",
       "    }\n",
       "\n",
       "    .dataframe thead th {\n",
       "        text-align: right;\n",
       "    }\n",
       "</style>\n",
       "<table border=\"1\" class=\"dataframe\">\n",
       "  <thead>\n",
       "    <tr style=\"text-align: right;\">\n",
       "      <th></th>\n",
       "      <th>[QUOTE_UNIXTIME], [QUOTE_READTIME], [QUOTE_DATE], [QUOTE_TIME_HOURS], [UNDERLYING_LAST], [EXPIRE_DATE], [EXPIRE_UNIX], [DTE], [C_DELTA], [C_GAMMA], [C_VEGA], [C_THETA], [C_RHO], [C_IV], [C_VOLUME], [C_LAST], [C_SIZE], [C_BID], [C_ASK], [STRIKE], [P_BID], [P_ASK], [P_SIZE], [P_LAST], [P_DELTA], [P_GAMMA], [P_VEGA], [P_THETA], [P_RHO], [P_IV], [P_VOLUME], [STRIKE_DISTANCE], [STRIKE_DISTANCE_PCT]</th>\n",
       "    </tr>\n",
       "  </thead>\n",
       "  <tbody>\n",
       "    <tr>\n",
       "      <th>0</th>\n",
       "      <td>1672779600, 2023-01-03 16:00, 2023-01-03, 16.0...</td>\n",
       "    </tr>\n",
       "    <tr>\n",
       "      <th>1</th>\n",
       "      <td>1672779600, 2023-01-03 16:00, 2023-01-03, 16.0...</td>\n",
       "    </tr>\n",
       "    <tr>\n",
       "      <th>2</th>\n",
       "      <td>1672779600, 2023-01-03 16:00, 2023-01-03, 16.0...</td>\n",
       "    </tr>\n",
       "    <tr>\n",
       "      <th>3</th>\n",
       "      <td>1672779600, 2023-01-03 16:00, 2023-01-03, 16.0...</td>\n",
       "    </tr>\n",
       "    <tr>\n",
       "      <th>4</th>\n",
       "      <td>1672779600, 2023-01-03 16:00, 2023-01-03, 16.0...</td>\n",
       "    </tr>\n",
       "    <tr>\n",
       "      <th>...</th>\n",
       "      <td>...</td>\n",
       "    </tr>\n",
       "    <tr>\n",
       "      <th>78916</th>\n",
       "      <td>1675198800, 2023-01-31 16:00, 2023-01-31, 16.0...</td>\n",
       "    </tr>\n",
       "    <tr>\n",
       "      <th>78917</th>\n",
       "      <td>1675198800, 2023-01-31 16:00, 2023-01-31, 16.0...</td>\n",
       "    </tr>\n",
       "    <tr>\n",
       "      <th>78918</th>\n",
       "      <td>1675198800, 2023-01-31 16:00, 2023-01-31, 16.0...</td>\n",
       "    </tr>\n",
       "    <tr>\n",
       "      <th>78919</th>\n",
       "      <td>1675198800, 2023-01-31 16:00, 2023-01-31, 16.0...</td>\n",
       "    </tr>\n",
       "    <tr>\n",
       "      <th>78920</th>\n",
       "      <td>1675198800, 2023-01-31 16:00, 2023-01-31, 16.0...</td>\n",
       "    </tr>\n",
       "  </tbody>\n",
       "</table>\n",
       "<p>78921 rows × 1 columns</p>\n",
       "</div>"
      ],
      "text/plain": [
       "      [QUOTE_UNIXTIME], [QUOTE_READTIME], [QUOTE_DATE], [QUOTE_TIME_HOURS], [UNDERLYING_LAST], [EXPIRE_DATE], [EXPIRE_UNIX], [DTE], [C_DELTA], [C_GAMMA], [C_VEGA], [C_THETA], [C_RHO], [C_IV], [C_VOLUME], [C_LAST], [C_SIZE], [C_BID], [C_ASK], [STRIKE], [P_BID], [P_ASK], [P_SIZE], [P_LAST], [P_DELTA], [P_GAMMA], [P_VEGA], [P_THETA], [P_RHO], [P_IV], [P_VOLUME], [STRIKE_DISTANCE], [STRIKE_DISTANCE_PCT]\n",
       "0      1672779600, 2023-01-03 16:00, 2023-01-03, 16.0...                                                                                                                                                                                                                                                                                                                                                          \n",
       "1      1672779600, 2023-01-03 16:00, 2023-01-03, 16.0...                                                                                                                                                                                                                                                                                                                                                          \n",
       "2      1672779600, 2023-01-03 16:00, 2023-01-03, 16.0...                                                                                                                                                                                                                                                                                                                                                          \n",
       "3      1672779600, 2023-01-03 16:00, 2023-01-03, 16.0...                                                                                                                                                                                                                                                                                                                                                          \n",
       "4      1672779600, 2023-01-03 16:00, 2023-01-03, 16.0...                                                                                                                                                                                                                                                                                                                                                          \n",
       "...                                                  ...                                                                                                                                                                                                                                                                                                                                                          \n",
       "78916  1675198800, 2023-01-31 16:00, 2023-01-31, 16.0...                                                                                                                                                                                                                                                                                                                                                          \n",
       "78917  1675198800, 2023-01-31 16:00, 2023-01-31, 16.0...                                                                                                                                                                                                                                                                                                                                                          \n",
       "78918  1675198800, 2023-01-31 16:00, 2023-01-31, 16.0...                                                                                                                                                                                                                                                                                                                                                          \n",
       "78919  1675198800, 2023-01-31 16:00, 2023-01-31, 16.0...                                                                                                                                                                                                                                                                                                                                                          \n",
       "78920  1675198800, 2023-01-31 16:00, 2023-01-31, 16.0...                                                                                                                                                                                                                                                                                                                                                          \n",
       "\n",
       "[78921 rows x 1 columns]"
      ]
     },
     "execution_count": 9,
     "metadata": {},
     "output_type": "execute_result"
    }
   ],
   "source": [
    "df"
   ]
  }
 ],
 "metadata": {
  "kernelspec": {
   "display_name": "PIC16B-24W",
   "language": "python",
   "name": "python3"
  },
  "language_info": {
   "codemirror_mode": {
    "name": "ipython",
    "version": 3
   },
   "file_extension": ".py",
   "mimetype": "text/x-python",
   "name": "python",
   "nbconvert_exporter": "python",
   "pygments_lexer": "ipython3",
   "version": "3.11.6"
  }
 },
 "nbformat": 4,
 "nbformat_minor": 2
}
