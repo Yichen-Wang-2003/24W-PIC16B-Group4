{
 "cells": [
  {
   "cell_type": "markdown",
   "metadata": {},
   "source": [
    "## Data cleasning and preprocessing of the option pricing data"
   ]
  },
  {
   "cell_type": "code",
   "execution_count": 94,
   "metadata": {},
   "outputs": [],
   "source": [
    "import pandas as pd\n",
    "import numpy as np\n",
    "import matplotlib.pyplot as plt\n",
    "import sklearn\n",
    "import yfinance as yf\n"
   ]
  },
  {
   "cell_type": "code",
   "execution_count": 95,
   "metadata": {},
   "outputs": [
    {
     "name": "stderr",
     "output_type": "stream",
     "text": [
      "C:\\Users\\Godzilla\\AppData\\Local\\Temp\\ipykernel_11664\\79976602.py:4: DtypeWarning: Columns (13) have mixed types. Specify dtype option on import or set low_memory=False.\n",
      "  df_2023_h1 = pd.concat([df_2023_h1, pd.read_table(f'data/spy_eod_{i}.txt', sep=',')], ignore_index=True)\n"
     ]
    }
   ],
   "source": [
    "# Read in the data from Jan 2023 to June 2023\n",
    "df_2023_h1 = pd.DataFrame()\n",
    "for i in [202301, 202302, 202303, 202304,  202305]:\n",
    "    df_2023_h1 = pd.concat([df_2023_h1, pd.read_table(f'data/spy_eod_{i}.txt', sep=',')], ignore_index=True)\n",
    "df_2023_h1.columns = df_2023_h1.columns.str.strip()"
   ]
  },
  {
   "cell_type": "code",
   "execution_count": 96,
   "metadata": {},
   "outputs": [],
   "source": [
    "# also drop expiration date later than 2024\n",
    "df_2023_h1 = df_2023_h1[df_2023_h1['[EXPIRE_DATE]'] <= ' 2023-12-31']\n",
    "df_2023_h1 = df_2023_h1.reset_index()"
   ]
  },
  {
   "cell_type": "code",
   "execution_count": 97,
   "metadata": {},
   "outputs": [
    {
     "name": "stderr",
     "output_type": "stream",
     "text": [
      "[*********************100%%**********************]  1 of 1 completed\n"
     ]
    },
    {
     "data": {
      "text/html": [
       "<div>\n",
       "<style scoped>\n",
       "    .dataframe tbody tr th:only-of-type {\n",
       "        vertical-align: middle;\n",
       "    }\n",
       "\n",
       "    .dataframe tbody tr th {\n",
       "        vertical-align: top;\n",
       "    }\n",
       "\n",
       "    .dataframe thead th {\n",
       "        text-align: right;\n",
       "    }\n",
       "</style>\n",
       "<table border=\"1\" class=\"dataframe\">\n",
       "  <thead>\n",
       "    <tr style=\"text-align: right;\">\n",
       "      <th></th>\n",
       "      <th>Adj Close</th>\n",
       "    </tr>\n",
       "    <tr>\n",
       "      <th>Date</th>\n",
       "      <th></th>\n",
       "    </tr>\n",
       "  </thead>\n",
       "  <tbody>\n",
       "    <tr>\n",
       "      <th>2023-01-03</th>\n",
       "      <td>375.118683</td>\n",
       "    </tr>\n",
       "    <tr>\n",
       "      <th>2023-01-04</th>\n",
       "      <td>378.014709</td>\n",
       "    </tr>\n",
       "    <tr>\n",
       "      <th>2023-01-05</th>\n",
       "      <td>373.700256</td>\n",
       "    </tr>\n",
       "    <tr>\n",
       "      <th>2023-01-06</th>\n",
       "      <td>382.270020</td>\n",
       "    </tr>\n",
       "    <tr>\n",
       "      <th>2023-01-09</th>\n",
       "      <td>382.053284</td>\n",
       "    </tr>\n",
       "    <tr>\n",
       "      <th>...</th>\n",
       "      <td>...</td>\n",
       "    </tr>\n",
       "    <tr>\n",
       "      <th>2023-12-22</th>\n",
       "      <td>473.649994</td>\n",
       "    </tr>\n",
       "    <tr>\n",
       "      <th>2023-12-26</th>\n",
       "      <td>475.649994</td>\n",
       "    </tr>\n",
       "    <tr>\n",
       "      <th>2023-12-27</th>\n",
       "      <td>476.510010</td>\n",
       "    </tr>\n",
       "    <tr>\n",
       "      <th>2023-12-28</th>\n",
       "      <td>476.690002</td>\n",
       "    </tr>\n",
       "    <tr>\n",
       "      <th>2023-12-29</th>\n",
       "      <td>475.309998</td>\n",
       "    </tr>\n",
       "  </tbody>\n",
       "</table>\n",
       "<p>250 rows × 1 columns</p>\n",
       "</div>"
      ],
      "text/plain": [
       "             Adj Close\n",
       "Date                  \n",
       "2023-01-03  375.118683\n",
       "2023-01-04  378.014709\n",
       "2023-01-05  373.700256\n",
       "2023-01-06  382.270020\n",
       "2023-01-09  382.053284\n",
       "...                ...\n",
       "2023-12-22  473.649994\n",
       "2023-12-26  475.649994\n",
       "2023-12-27  476.510010\n",
       "2023-12-28  476.690002\n",
       "2023-12-29  475.309998\n",
       "\n",
       "[250 rows x 1 columns]"
      ]
     },
     "execution_count": 97,
     "metadata": {},
     "output_type": "execute_result"
    }
   ],
   "source": [
    "# get target data from yfinance\n",
    "target = pd.DataFrame(yf.download(['SPY'], start=\"2023-01-01\", end=\"2023-12-31\")['Adj Close'])\n",
    "target"
   ]
  },
  {
   "cell_type": "code",
   "execution_count": 98,
   "metadata": {},
   "outputs": [
    {
     "data": {
      "text/plain": [
       "<DatetimeArray>\n",
       "['2023-01-03 00:00:00', '2023-01-04 00:00:00', '2023-01-05 00:00:00',\n",
       " '2023-01-06 00:00:00', '2023-01-09 00:00:00', '2023-01-10 00:00:00',\n",
       " '2023-01-11 00:00:00', '2023-01-12 00:00:00', '2023-01-13 00:00:00',\n",
       " '2023-01-20 00:00:00',\n",
       " ...\n",
       " '2023-06-01 00:00:00', '2023-06-05 00:00:00', '2023-06-06 00:00:00',\n",
       " '2023-06-07 00:00:00', '2023-06-08 00:00:00', '2023-07-07 00:00:00',\n",
       " '2023-06-12 00:00:00', '2023-06-13 00:00:00', '2023-06-14 00:00:00',\n",
       " '2023-11-17 00:00:00']\n",
       "Length: 125, dtype: datetime64[ns]"
      ]
     },
     "execution_count": 98,
     "metadata": {},
     "output_type": "execute_result"
    }
   ],
   "source": [
    "df_2023_h1['[EXPIRE_DATE]'] = df_2023_h1['[EXPIRE_DATE]'].str.strip().astype('datetime64[ns]')\n",
    "df_2023_h1['[EXPIRE_DATE]'].unique()"
   ]
  },
  {
   "cell_type": "code",
   "execution_count": 99,
   "metadata": {},
   "outputs": [
    {
     "data": {
      "text/plain": [
       "Date\n",
       "2023-01-03   2023-01-03\n",
       "2023-01-04   2023-01-04\n",
       "2023-01-05   2023-01-05\n",
       "2023-01-06   2023-01-06\n",
       "2023-01-09   2023-01-09\n",
       "                ...    \n",
       "2023-12-22   2023-12-22\n",
       "2023-12-26   2023-12-26\n",
       "2023-12-27   2023-12-27\n",
       "2023-12-28   2023-12-28\n",
       "2023-12-29   2023-12-29\n",
       "Name: [EXPIRE_DATE], Length: 250, dtype: datetime64[ns]"
      ]
     },
     "execution_count": 99,
     "metadata": {},
     "output_type": "execute_result"
    }
   ],
   "source": [
    "target['[EXPIRE_DATE]'] = target.index\n",
    "target['[EXPIRE_DATE]'].astype('datetime64[ns]')"
   ]
  },
  {
   "cell_type": "code",
   "execution_count": 100,
   "metadata": {},
   "outputs": [],
   "source": [
    "df_2023_h1 = pd.merge(df_2023_h1, target, on = '[EXPIRE_DATE]')"
   ]
  },
  {
   "cell_type": "code",
   "execution_count": 103,
   "metadata": {},
   "outputs": [],
   "source": [
    "naive_price = df_2023_h1['Adj Close'] - df_2023_h1['[STRIKE]']"
   ]
  },
  {
   "cell_type": "code",
   "execution_count": 104,
   "metadata": {},
   "outputs": [
    {
     "data": {
      "text/plain": [
       "0         65.118683\n",
       "1         55.118683\n",
       "2         51.118683\n",
       "3         50.118683\n",
       "4         49.118683\n",
       "            ...    \n",
       "331604    18.969696\n",
       "331605    13.969696\n",
       "331606     8.969696\n",
       "331607     3.969696\n",
       "331608    -1.030304\n",
       "Length: 331609, dtype: float64"
      ]
     },
     "execution_count": 104,
     "metadata": {},
     "output_type": "execute_result"
    }
   ],
   "source": [
    "naive_price # this is the first thing we might test for "
   ]
  },
  {
   "cell_type": "code",
   "execution_count": 5,
   "metadata": {},
   "outputs": [],
   "source": [
    "# ignoring underlying interest rate, lets just use direct profit comparison to try first\n",
    "# we can use target price (real adj close price) - strike price as our to be predicted quote price. \n",
    "# still need to fit target into our original dataframe tho. \n",
    "# df_2023_h1.join(target, on= 'Date') # Date = Expire Date here. "
   ]
  },
  {
   "cell_type": "code",
   "execution_count": 6,
   "metadata": {},
   "outputs": [
    {
     "data": {
      "text/plain": [
       "\"# Now do some feature engineering. First deal with moneyness. Moneyness, # probably change it to boolean? \\n# by definition, refers to the strike price of an option relative to the current trading price of the underlying asset.\\ndf_2023_h1['Moneyness'] = 'ATM'\\ndf_2023_h1.loc[df_2023_h1['[STRIKE]'] < df_2023_h1['[UNDERLYING_LAST]'], 'Moneyness'] = 'ITM'\\ndf_2023_h1.loc[df_2023_h1['[STRIKE]'] > df_2023_h1['[UNDERLYING_LAST]'], 'Moneyness'] = 'OTM'\""
      ]
     },
     "execution_count": 6,
     "metadata": {},
     "output_type": "execute_result"
    }
   ],
   "source": [
    "\"\"\"# Now do some feature engineering. First deal with moneyness. Moneyness, # probably change it to boolean? \n",
    "# by definition, refers to the strike price of an option relative to the current trading price of the underlying asset.\n",
    "df_2023_h1['Moneyness'] = 'ATM'\n",
    "df_2023_h1.loc[df_2023_h1['[STRIKE]'] < df_2023_h1['[UNDERLYING_LAST]'], 'Moneyness'] = 'ITM'\n",
    "df_2023_h1.loc[df_2023_h1['[STRIKE]'] > df_2023_h1['[UNDERLYING_LAST]'], 'Moneyness'] = 'OTM'\"\"\""
   ]
  },
  {
   "cell_type": "code",
   "execution_count": 105,
   "metadata": {},
   "outputs": [
    {
     "data": {
      "text/plain": [
       "Index(['index', '[QUOTE_UNIXTIME]', '[QUOTE_READTIME]', '[QUOTE_DATE]',\n",
       "       '[QUOTE_TIME_HOURS]', '[UNDERLYING_LAST]', '[EXPIRE_DATE]',\n",
       "       '[EXPIRE_UNIX]', '[DTE]', '[C_DELTA]', '[C_GAMMA]', '[C_VEGA]',\n",
       "       '[C_THETA]', '[C_RHO]', '[C_IV]', '[C_VOLUME]', '[C_LAST]', '[C_SIZE]',\n",
       "       '[C_BID]', '[C_ASK]', '[STRIKE]', '[P_BID]', '[P_ASK]', '[P_SIZE]',\n",
       "       '[P_LAST]', '[P_DELTA]', '[P_GAMMA]', '[P_VEGA]', '[P_THETA]',\n",
       "       '[P_RHO]', '[P_IV]', '[P_VOLUME]', '[STRIKE_DISTANCE]',\n",
       "       '[STRIKE_DISTANCE_PCT]', 'Adj Close'],\n",
       "      dtype='object')"
      ]
     },
     "execution_count": 105,
     "metadata": {},
     "output_type": "execute_result"
    }
   ],
   "source": [
    "df_2023_h1.columns  # someone pls check this and fill it into the standard scalar"
   ]
  },
  {
   "cell_type": "code",
   "execution_count": 106,
   "metadata": {},
   "outputs": [
    {
     "name": "stdout",
     "output_type": "stream",
     "text": [
      "<class 'numpy.int64'>\n",
      "<class 'numpy.int64'>\n",
      "<class 'numpy.float64'>\n",
      "<class 'numpy.float64'>\n",
      "<class 'numpy.float64'>\n",
      "<class 'numpy.float64'>\n",
      "<class 'numpy.float64'>\n",
      "<class 'numpy.float64'>\n",
      "<class 'numpy.float64'>\n",
      "<class 'str'>\n",
      "<class 'str'>\n",
      "<class 'numpy.float64'>\n",
      "<class 'numpy.float64'>\n",
      "<class 'numpy.float64'>\n",
      "<class 'numpy.float64'>\n",
      "<class 'numpy.float64'>\n",
      "<class 'numpy.float64'>\n",
      "<class 'numpy.float64'>\n",
      "<class 'str'>\n",
      "<class 'str'>\n",
      "<class 'numpy.float64'>\n",
      "<class 'numpy.float64'>\n"
     ]
    }
   ],
   "source": [
    "df_2023_h1 = df_2023_h1[['[QUOTE_UNIXTIME]', '[EXPIRE_UNIX]', '[STRIKE]', '[UNDERLYING_LAST]', '[C_DELTA]', '[C_GAMMA]', '[C_VEGA]',\n",
    "       '[C_THETA]', '[C_RHO]', '[C_IV]', '[C_VOLUME]','[C_BID]', '[C_ASK]', '[P_DELTA]', '[P_GAMMA]', '[P_VEGA]', '[P_THETA]',\n",
    "       '[P_RHO]', '[P_IV]', '[P_VOLUME]', '[P_BID]', '[P_ASK]']]\n",
    "for column in df_2023_h1.columns:\n",
    "    print(type(df_2023_h1[column][0]))"
   ]
  },
  {
   "cell_type": "code",
   "execution_count": 107,
   "metadata": {},
   "outputs": [],
   "source": [
    "df_2023_h1 = df_2023_h1.replace(r'^\\s*$', 0, regex=True)"
   ]
  },
  {
   "cell_type": "code",
   "execution_count": 108,
   "metadata": {},
   "outputs": [
    {
     "name": "stdout",
     "output_type": "stream",
     "text": [
      "<class 'numpy.float64'>\n",
      "<class 'numpy.float64'>\n",
      "<class 'numpy.float64'>\n",
      "<class 'numpy.float64'>\n"
     ]
    }
   ],
   "source": [
    "for column in ['[C_IV]', '[C_VOLUME]', '[P_IV]', '[P_VOLUME]']:\n",
    "    df_2023_h1[column] = df_2023_h1[column].str.strip().astype('float64')\n",
    "    print(type(df_2023_h1[column][0]))"
   ]
  },
  {
   "cell_type": "code",
   "execution_count": 109,
   "metadata": {},
   "outputs": [],
   "source": [
    "df_2023_h1 = df_2023_h1.fillna(0)"
   ]
  },
  {
   "cell_type": "code",
   "execution_count": 110,
   "metadata": {},
   "outputs": [],
   "source": [
    "# Basic normalization and standardization\n",
    "# run block of code and catch warnings\n",
    "import warnings\n",
    "from sklearn.preprocessing import StandardScaler\n",
    "with warnings.catch_warnings():\n",
    "\t# ignore all caught warnings\n",
    "\twarnings.filterwarnings(\"ignore\")\n",
    "\t# execute code that will generate warnings\n",
    "\tnumeric_cols = ['[QUOTE_UNIXTIME]', '[EXPIRE_UNIX]', '[STRIKE]', '[UNDERLYING_LAST]', '[C_DELTA]', '[C_GAMMA]', '[C_VEGA]',\n",
    "       '[C_THETA]', '[C_RHO]', '[C_IV]', '[C_VOLUME]','[C_BID]', '[C_ASK]', '[P_DELTA]', '[P_GAMMA]', '[P_VEGA]', '[P_THETA]',\n",
    "       '[P_RHO]', '[P_IV]', '[P_VOLUME]', '[P_BID]', '[P_ASK]']  # not sure about all this, we ball\n",
    "\tscaler = StandardScaler()\n",
    "\tdf_2023_h1[numeric_cols] = scaler.fit_transform(df_2023_h1[numeric_cols])"
   ]
  },
  {
   "cell_type": "code",
   "execution_count": 111,
   "metadata": {},
   "outputs": [
    {
     "data": {
      "text/html": [
       "<div>\n",
       "<style scoped>\n",
       "    .dataframe tbody tr th:only-of-type {\n",
       "        vertical-align: middle;\n",
       "    }\n",
       "\n",
       "    .dataframe tbody tr th {\n",
       "        vertical-align: top;\n",
       "    }\n",
       "\n",
       "    .dataframe thead th {\n",
       "        text-align: right;\n",
       "    }\n",
       "</style>\n",
       "<table border=\"1\" class=\"dataframe\">\n",
       "  <thead>\n",
       "    <tr style=\"text-align: right;\">\n",
       "      <th></th>\n",
       "      <th>[QUOTE_UNIXTIME]</th>\n",
       "      <th>[EXPIRE_UNIX]</th>\n",
       "      <th>[STRIKE]</th>\n",
       "      <th>[UNDERLYING_LAST]</th>\n",
       "      <th>[C_DELTA]</th>\n",
       "      <th>[C_GAMMA]</th>\n",
       "      <th>[C_VEGA]</th>\n",
       "      <th>[C_THETA]</th>\n",
       "      <th>[C_RHO]</th>\n",
       "      <th>[C_IV]</th>\n",
       "      <th>...</th>\n",
       "      <th>[C_ASK]</th>\n",
       "      <th>[P_DELTA]</th>\n",
       "      <th>[P_GAMMA]</th>\n",
       "      <th>[P_VEGA]</th>\n",
       "      <th>[P_THETA]</th>\n",
       "      <th>[P_RHO]</th>\n",
       "      <th>[P_IV]</th>\n",
       "      <th>[P_VOLUME]</th>\n",
       "      <th>[P_BID]</th>\n",
       "      <th>[P_ASK]</th>\n",
       "    </tr>\n",
       "  </thead>\n",
       "  <tbody>\n",
       "    <tr>\n",
       "      <th>0</th>\n",
       "      <td>-1.69160</td>\n",
       "      <td>-1.531564</td>\n",
       "      <td>-1.054517</td>\n",
       "      <td>-2.406592</td>\n",
       "      <td>1.054125</td>\n",
       "      <td>-0.052714</td>\n",
       "      <td>0.000146</td>\n",
       "      <td>-0.391189</td>\n",
       "      <td>-0.307878</td>\n",
       "      <td>11.711458</td>\n",
       "      <td>...</td>\n",
       "      <td>0.676304</td>\n",
       "      <td>1.120791</td>\n",
       "      <td>-0.013192</td>\n",
       "      <td>0.001135</td>\n",
       "      <td>0.086874</td>\n",
       "      <td>0.592295</td>\n",
       "      <td>3.380989</td>\n",
       "      <td>-0.100406</td>\n",
       "      <td>-0.563368</td>\n",
       "      <td>-0.566211</td>\n",
       "    </tr>\n",
       "    <tr>\n",
       "      <th>1</th>\n",
       "      <td>-1.69160</td>\n",
       "      <td>-1.531564</td>\n",
       "      <td>-0.936052</td>\n",
       "      <td>-2.406592</td>\n",
       "      <td>1.041020</td>\n",
       "      <td>0.036229</td>\n",
       "      <td>0.000190</td>\n",
       "      <td>-0.390353</td>\n",
       "      <td>-0.308470</td>\n",
       "      <td>10.342762</td>\n",
       "      <td>...</td>\n",
       "      <td>0.479078</td>\n",
       "      <td>1.120350</td>\n",
       "      <td>-0.013031</td>\n",
       "      <td>0.001152</td>\n",
       "      <td>0.086843</td>\n",
       "      <td>0.592878</td>\n",
       "      <td>2.599981</td>\n",
       "      <td>-0.100406</td>\n",
       "      <td>-0.563368</td>\n",
       "      <td>-0.566211</td>\n",
       "    </tr>\n",
       "    <tr>\n",
       "      <th>2</th>\n",
       "      <td>-1.69160</td>\n",
       "      <td>-1.531564</td>\n",
       "      <td>-0.888665</td>\n",
       "      <td>-2.406592</td>\n",
       "      <td>1.035470</td>\n",
       "      <td>0.083539</td>\n",
       "      <td>0.000199</td>\n",
       "      <td>-0.393217</td>\n",
       "      <td>-0.308536</td>\n",
       "      <td>9.795964</td>\n",
       "      <td>...</td>\n",
       "      <td>0.400187</td>\n",
       "      <td>1.119196</td>\n",
       "      <td>-0.013111</td>\n",
       "      <td>0.001152</td>\n",
       "      <td>0.086442</td>\n",
       "      <td>0.592606</td>\n",
       "      <td>2.292638</td>\n",
       "      <td>-0.100406</td>\n",
       "      <td>-0.563368</td>\n",
       "      <td>-0.566211</td>\n",
       "    </tr>\n",
       "    <tr>\n",
       "      <th>3</th>\n",
       "      <td>-1.69160</td>\n",
       "      <td>-1.531564</td>\n",
       "      <td>-0.876819</td>\n",
       "      <td>-2.406592</td>\n",
       "      <td>1.048893</td>\n",
       "      <td>0.103725</td>\n",
       "      <td>0.000140</td>\n",
       "      <td>0.031159</td>\n",
       "      <td>-0.308217</td>\n",
       "      <td>9.553426</td>\n",
       "      <td>...</td>\n",
       "      <td>0.389734</td>\n",
       "      <td>1.120644</td>\n",
       "      <td>-0.013015</td>\n",
       "      <td>0.001157</td>\n",
       "      <td>0.086741</td>\n",
       "      <td>0.591011</td>\n",
       "      <td>2.214716</td>\n",
       "      <td>-0.100406</td>\n",
       "      <td>-0.563368</td>\n",
       "      <td>-0.566211</td>\n",
       "    </tr>\n",
       "    <tr>\n",
       "      <th>4</th>\n",
       "      <td>-1.69160</td>\n",
       "      <td>-1.531564</td>\n",
       "      <td>-0.864972</td>\n",
       "      <td>-2.406592</td>\n",
       "      <td>1.030873</td>\n",
       "      <td>0.108141</td>\n",
       "      <td>0.000225</td>\n",
       "      <td>-0.438792</td>\n",
       "      <td>-0.308574</td>\n",
       "      <td>9.529689</td>\n",
       "      <td>...</td>\n",
       "      <td>0.371195</td>\n",
       "      <td>1.119712</td>\n",
       "      <td>-0.013079</td>\n",
       "      <td>0.001120</td>\n",
       "      <td>0.086482</td>\n",
       "      <td>0.591167</td>\n",
       "      <td>2.139460</td>\n",
       "      <td>-0.100406</td>\n",
       "      <td>-0.563368</td>\n",
       "      <td>-0.566211</td>\n",
       "    </tr>\n",
       "    <tr>\n",
       "      <th>...</th>\n",
       "      <td>...</td>\n",
       "      <td>...</td>\n",
       "      <td>...</td>\n",
       "      <td>...</td>\n",
       "      <td>...</td>\n",
       "      <td>...</td>\n",
       "      <td>...</td>\n",
       "      <td>...</td>\n",
       "      <td>...</td>\n",
       "      <td>...</td>\n",
       "      <td>...</td>\n",
       "      <td>...</td>\n",
       "      <td>...</td>\n",
       "      <td>...</td>\n",
       "      <td>...</td>\n",
       "      <td>...</td>\n",
       "      <td>...</td>\n",
       "      <td>...</td>\n",
       "      <td>...</td>\n",
       "      <td>...</td>\n",
       "      <td>...</td>\n",
       "    </tr>\n",
       "    <tr>\n",
       "      <th>331604</th>\n",
       "      <td>1.78216</td>\n",
       "      <td>1.881977</td>\n",
       "      <td>0.367073</td>\n",
       "      <td>1.410238</td>\n",
       "      <td>-0.175447</td>\n",
       "      <td>0.125803</td>\n",
       "      <td>0.058474</td>\n",
       "      <td>0.064804</td>\n",
       "      <td>0.473889</td>\n",
       "      <td>-0.825637</td>\n",
       "      <td>...</td>\n",
       "      <td>-0.386156</td>\n",
       "      <td>-0.261286</td>\n",
       "      <td>0.003340</td>\n",
       "      <td>0.057390</td>\n",
       "      <td>0.064104</td>\n",
       "      <td>-2.657456</td>\n",
       "      <td>-0.483741</td>\n",
       "      <td>-0.100406</td>\n",
       "      <td>-0.191656</td>\n",
       "      <td>-0.130110</td>\n",
       "    </tr>\n",
       "    <tr>\n",
       "      <th>331605</th>\n",
       "      <td>1.78216</td>\n",
       "      <td>1.881977</td>\n",
       "      <td>0.426306</td>\n",
       "      <td>1.410238</td>\n",
       "      <td>-0.288188</td>\n",
       "      <td>0.141573</td>\n",
       "      <td>0.057498</td>\n",
       "      <td>0.121952</td>\n",
       "      <td>0.401497</td>\n",
       "      <td>-0.825637</td>\n",
       "      <td>...</td>\n",
       "      <td>-0.472936</td>\n",
       "      <td>-0.405104</td>\n",
       "      <td>0.004291</td>\n",
       "      <td>0.054827</td>\n",
       "      <td>0.067442</td>\n",
       "      <td>-2.681954</td>\n",
       "      <td>-0.504299</td>\n",
       "      <td>-0.100406</td>\n",
       "      <td>-0.142171</td>\n",
       "      <td>-0.085819</td>\n",
       "    </tr>\n",
       "    <tr>\n",
       "      <th>331606</th>\n",
       "      <td>1.78216</td>\n",
       "      <td>1.881977</td>\n",
       "      <td>0.485538</td>\n",
       "      <td>1.410238</td>\n",
       "      <td>-0.406236</td>\n",
       "      <td>0.147881</td>\n",
       "      <td>0.055627</td>\n",
       "      <td>0.179100</td>\n",
       "      <td>0.323910</td>\n",
       "      <td>-0.825637</td>\n",
       "      <td>...</td>\n",
       "      <td>-0.521651</td>\n",
       "      <td>-0.565709</td>\n",
       "      <td>0.005225</td>\n",
       "      <td>0.050409</td>\n",
       "      <td>0.071071</td>\n",
       "      <td>-2.573385</td>\n",
       "      <td>-0.528800</td>\n",
       "      <td>-0.100406</td>\n",
       "      <td>-0.090211</td>\n",
       "      <td>-0.033009</td>\n",
       "    </tr>\n",
       "    <tr>\n",
       "      <th>331607</th>\n",
       "      <td>1.78216</td>\n",
       "      <td>1.881977</td>\n",
       "      <td>0.544771</td>\n",
       "      <td>1.410238</td>\n",
       "      <td>-0.524528</td>\n",
       "      <td>0.142835</td>\n",
       "      <td>0.052804</td>\n",
       "      <td>0.249133</td>\n",
       "      <td>0.243663</td>\n",
       "      <td>-0.825637</td>\n",
       "      <td>...</td>\n",
       "      <td>-0.564252</td>\n",
       "      <td>-0.714509</td>\n",
       "      <td>0.005499</td>\n",
       "      <td>0.044680</td>\n",
       "      <td>0.074684</td>\n",
       "      <td>-2.371958</td>\n",
       "      <td>-0.536906</td>\n",
       "      <td>-0.100406</td>\n",
       "      <td>-0.024928</td>\n",
       "      <td>0.033049</td>\n",
       "    </tr>\n",
       "    <tr>\n",
       "      <th>331608</th>\n",
       "      <td>1.78216</td>\n",
       "      <td>1.881977</td>\n",
       "      <td>0.604004</td>\n",
       "      <td>1.410238</td>\n",
       "      <td>-0.647832</td>\n",
       "      <td>0.128957</td>\n",
       "      <td>0.048808</td>\n",
       "      <td>0.324893</td>\n",
       "      <td>0.159893</td>\n",
       "      <td>-0.825637</td>\n",
       "      <td>...</td>\n",
       "      <td>-0.599752</td>\n",
       "      <td>-0.877274</td>\n",
       "      <td>0.005515</td>\n",
       "      <td>0.036596</td>\n",
       "      <td>0.078698</td>\n",
       "      <td>-1.955998</td>\n",
       "      <td>-0.553411</td>\n",
       "      <td>-0.100406</td>\n",
       "      <td>0.044922</td>\n",
       "      <td>0.104029</td>\n",
       "    </tr>\n",
       "  </tbody>\n",
       "</table>\n",
       "<p>331609 rows × 22 columns</p>\n",
       "</div>"
      ],
      "text/plain": [
       "        [QUOTE_UNIXTIME]  [EXPIRE_UNIX]  [STRIKE]  [UNDERLYING_LAST]  \\\n",
       "0               -1.69160      -1.531564 -1.054517          -2.406592   \n",
       "1               -1.69160      -1.531564 -0.936052          -2.406592   \n",
       "2               -1.69160      -1.531564 -0.888665          -2.406592   \n",
       "3               -1.69160      -1.531564 -0.876819          -2.406592   \n",
       "4               -1.69160      -1.531564 -0.864972          -2.406592   \n",
       "...                  ...            ...       ...                ...   \n",
       "331604           1.78216       1.881977  0.367073           1.410238   \n",
       "331605           1.78216       1.881977  0.426306           1.410238   \n",
       "331606           1.78216       1.881977  0.485538           1.410238   \n",
       "331607           1.78216       1.881977  0.544771           1.410238   \n",
       "331608           1.78216       1.881977  0.604004           1.410238   \n",
       "\n",
       "        [C_DELTA]  [C_GAMMA]  [C_VEGA]  [C_THETA]   [C_RHO]     [C_IV]  ...  \\\n",
       "0        1.054125  -0.052714  0.000146  -0.391189 -0.307878  11.711458  ...   \n",
       "1        1.041020   0.036229  0.000190  -0.390353 -0.308470  10.342762  ...   \n",
       "2        1.035470   0.083539  0.000199  -0.393217 -0.308536   9.795964  ...   \n",
       "3        1.048893   0.103725  0.000140   0.031159 -0.308217   9.553426  ...   \n",
       "4        1.030873   0.108141  0.000225  -0.438792 -0.308574   9.529689  ...   \n",
       "...           ...        ...       ...        ...       ...        ...  ...   \n",
       "331604  -0.175447   0.125803  0.058474   0.064804  0.473889  -0.825637  ...   \n",
       "331605  -0.288188   0.141573  0.057498   0.121952  0.401497  -0.825637  ...   \n",
       "331606  -0.406236   0.147881  0.055627   0.179100  0.323910  -0.825637  ...   \n",
       "331607  -0.524528   0.142835  0.052804   0.249133  0.243663  -0.825637  ...   \n",
       "331608  -0.647832   0.128957  0.048808   0.324893  0.159893  -0.825637  ...   \n",
       "\n",
       "         [C_ASK]  [P_DELTA]  [P_GAMMA]  [P_VEGA]  [P_THETA]   [P_RHO]  \\\n",
       "0       0.676304   1.120791  -0.013192  0.001135   0.086874  0.592295   \n",
       "1       0.479078   1.120350  -0.013031  0.001152   0.086843  0.592878   \n",
       "2       0.400187   1.119196  -0.013111  0.001152   0.086442  0.592606   \n",
       "3       0.389734   1.120644  -0.013015  0.001157   0.086741  0.591011   \n",
       "4       0.371195   1.119712  -0.013079  0.001120   0.086482  0.591167   \n",
       "...          ...        ...        ...       ...        ...       ...   \n",
       "331604 -0.386156  -0.261286   0.003340  0.057390   0.064104 -2.657456   \n",
       "331605 -0.472936  -0.405104   0.004291  0.054827   0.067442 -2.681954   \n",
       "331606 -0.521651  -0.565709   0.005225  0.050409   0.071071 -2.573385   \n",
       "331607 -0.564252  -0.714509   0.005499  0.044680   0.074684 -2.371958   \n",
       "331608 -0.599752  -0.877274   0.005515  0.036596   0.078698 -1.955998   \n",
       "\n",
       "          [P_IV]  [P_VOLUME]   [P_BID]   [P_ASK]  \n",
       "0       3.380989   -0.100406 -0.563368 -0.566211  \n",
       "1       2.599981   -0.100406 -0.563368 -0.566211  \n",
       "2       2.292638   -0.100406 -0.563368 -0.566211  \n",
       "3       2.214716   -0.100406 -0.563368 -0.566211  \n",
       "4       2.139460   -0.100406 -0.563368 -0.566211  \n",
       "...          ...         ...       ...       ...  \n",
       "331604 -0.483741   -0.100406 -0.191656 -0.130110  \n",
       "331605 -0.504299   -0.100406 -0.142171 -0.085819  \n",
       "331606 -0.528800   -0.100406 -0.090211 -0.033009  \n",
       "331607 -0.536906   -0.100406 -0.024928  0.033049  \n",
       "331608 -0.553411   -0.100406  0.044922  0.104029  \n",
       "\n",
       "[331609 rows x 22 columns]"
      ]
     },
     "execution_count": 111,
     "metadata": {},
     "output_type": "execute_result"
    }
   ],
   "source": [
    "df_2023_h1"
   ]
  },
  {
   "cell_type": "code",
   "execution_count": 14,
   "metadata": {},
   "outputs": [
    {
     "data": {
      "text/plain": [
       "\"df_2023_h1['[QUOTE_MONTH]'] = df_2023_h1['[QUOTE_DATE]'].dt.month\\ndf_2023_h1['[EXPIRE_WEEKDAY]'] = df_2023_h1['[EXPIRE_DATE]'].dt.weekday\\ndf_2023_h1=pd.get_dummies(df_2023_h1, columns = ['Moneyness'])\""
      ]
     },
     "execution_count": 14,
     "metadata": {},
     "output_type": "execute_result"
    }
   ],
   "source": [
    "# Extract features from datetime and encode categorical features\n",
    "# Do we still use datetime ?? or just use unix \n",
    "\"\"\"df_2023_h1['[QUOTE_MONTH]'] = df_2023_h1['[QUOTE_DATE]'].dt.month\n",
    "df_2023_h1['[EXPIRE_WEEKDAY]'] = df_2023_h1['[EXPIRE_DATE]'].dt.weekday\n",
    "df_2023_h1=pd.get_dummies(df_2023_h1, columns = ['Moneyness'])\"\"\""
   ]
  },
  {
   "cell_type": "code",
   "execution_count": 15,
   "metadata": {},
   "outputs": [],
   "source": [
    "# # Outlier detection\n",
    "# num_col = df_2023_h1.select_dtypes(include=['int64', 'float64']).columns\n",
    "# for i in num_col:\n",
    "#     q75, q25 = np.percentile(df_2023_h1[i], [75 ,25])\n",
    "#     iqr = q75 - q25\n",
    "#     min = q25 - (iqr*1.5)\n",
    "#     max = q75 + (iqr*1.5)\n",
    "    "
   ]
  },
  {
   "cell_type": "code",
   "execution_count": 16,
   "metadata": {},
   "outputs": [],
   "source": [
    "import torch\n",
    "from torch import nn\n",
    "from torch.utils.data import DataLoader\n",
    "from torchvision import datasets\n",
    "from torchvision.transforms import ToTensor"
   ]
  },
  {
   "cell_type": "code",
   "execution_count": 112,
   "metadata": {},
   "outputs": [
    {
     "ename": "ValueError",
     "evalue": "too many values to unpack (expected 2)",
     "output_type": "error",
     "traceback": [
      "\u001b[1;31m---------------------------------------------------------------------------\u001b[0m",
      "\u001b[1;31mValueError\u001b[0m                                Traceback (most recent call last)",
      "Cell \u001b[1;32mIn[112], line 7\u001b[0m\n\u001b[0;32m      4\u001b[0m train_dataloader \u001b[38;5;241m=\u001b[39m DataLoader(df_2023_h1, batch_size\u001b[38;5;241m=\u001b[39mbatch_size)\n\u001b[0;32m      5\u001b[0m test_dataloader \u001b[38;5;241m=\u001b[39m DataLoader(naive_price, batch_size\u001b[38;5;241m=\u001b[39mbatch_size)\n\u001b[1;32m----> 7\u001b[0m \u001b[38;5;28;01mfor\u001b[39;00m X, y \u001b[38;5;129;01min\u001b[39;00m test_dataloader:\n\u001b[0;32m      8\u001b[0m     \u001b[38;5;28mprint\u001b[39m(\u001b[38;5;124mf\u001b[39m\u001b[38;5;124m\"\u001b[39m\u001b[38;5;124mShape of X [N, C, H, W]: \u001b[39m\u001b[38;5;132;01m{\u001b[39;00mX\u001b[38;5;241m.\u001b[39mshape\u001b[38;5;132;01m}\u001b[39;00m\u001b[38;5;124m\"\u001b[39m)\n\u001b[0;32m      9\u001b[0m     \u001b[38;5;28mprint\u001b[39m(\u001b[38;5;124mf\u001b[39m\u001b[38;5;124m\"\u001b[39m\u001b[38;5;124mShape of y: \u001b[39m\u001b[38;5;132;01m{\u001b[39;00my\u001b[38;5;241m.\u001b[39mshape\u001b[38;5;132;01m}\u001b[39;00m\u001b[38;5;124m \u001b[39m\u001b[38;5;132;01m{\u001b[39;00my\u001b[38;5;241m.\u001b[39mdtype\u001b[38;5;132;01m}\u001b[39;00m\u001b[38;5;124m\"\u001b[39m)\n",
      "\u001b[1;31mValueError\u001b[0m: too many values to unpack (expected 2)"
     ]
    }
   ],
   "source": [
    "batch_size = 64\n",
    "\n",
    "# Create data loaders.\n",
    "train_dataloader = DataLoader(training_data, batch_size=batch_size)\n",
    "test_dataloader = DataLoader(test_data, batch_size=batch_size)\n",
    "\n",
    "for X, y in test_dataloader:\n",
    "    print(f\"Shape of X [N, C, H, W]: {X.shape}\")\n",
    "    print(f\"Shape of y: {y.shape} {y.dtype}\")\n",
    "    break"
   ]
  }
 ],
 "metadata": {
  "kernelspec": {
   "display_name": "YichenWang",
   "language": "python",
   "name": "python3"
  },
  "language_info": {
   "codemirror_mode": {
    "name": "ipython",
    "version": 3
   },
   "file_extension": ".py",
   "mimetype": "text/x-python",
   "name": "python",
   "nbconvert_exporter": "python",
   "pygments_lexer": "ipython3",
   "version": "3.11.6"
  }
 },
 "nbformat": 4,
 "nbformat_minor": 2
}
